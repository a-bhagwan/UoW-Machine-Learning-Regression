{
 "cells": [
  {
   "cell_type": "code",
   "execution_count": 1,
   "metadata": {},
   "outputs": [],
   "source": [
    "#importing necessary libraries\n",
    "import pandas as pd\n",
    "from sklearn.model_selection import train_test_split\n",
    "import numpy as np\n",
    "import seaborn as sns\n",
    "import statsmodels.api as sm\n",
    "from math import sqrt"
   ]
  },
  {
   "cell_type": "code",
   "execution_count": 2,
   "metadata": {},
   "outputs": [
    {
     "name": "stdout",
     "output_type": "stream",
     "text": [
      "<class 'pandas.core.frame.DataFrame'>\n",
      "RangeIndex: 21613 entries, 0 to 21612\n",
      "Data columns (total 21 columns):\n",
      " #   Column         Non-Null Count  Dtype  \n",
      "---  ------         --------------  -----  \n",
      " 0   id             21613 non-null  int64  \n",
      " 1   date           21613 non-null  object \n",
      " 2   price          21613 non-null  float64\n",
      " 3   bedrooms       21613 non-null  int64  \n",
      " 4   bathrooms      21613 non-null  float64\n",
      " 5   sqft_living    21613 non-null  int64  \n",
      " 6   sqft_lot       21613 non-null  int64  \n",
      " 7   floors         21613 non-null  float64\n",
      " 8   waterfront     21613 non-null  int64  \n",
      " 9   view           21613 non-null  int64  \n",
      " 10  condition      21613 non-null  int64  \n",
      " 11  grade          21613 non-null  int64  \n",
      " 12  sqft_above     21613 non-null  int64  \n",
      " 13  sqft_basement  21613 non-null  int64  \n",
      " 14  yr_built       21613 non-null  int64  \n",
      " 15  yr_renovated   21613 non-null  int64  \n",
      " 16  zipcode        21613 non-null  int64  \n",
      " 17  lat            21613 non-null  float64\n",
      " 18  long           21613 non-null  float64\n",
      " 19  sqft_living15  21613 non-null  int64  \n",
      " 20  sqft_lot15     21613 non-null  int64  \n",
      "dtypes: float64(5), int64(15), object(1)\n",
      "memory usage: 3.5+ MB\n"
     ]
    },
    {
     "data": {
      "text/plain": [
       "(id                 int64\n",
       " date              object\n",
       " price            float64\n",
       " bedrooms           int64\n",
       " bathrooms        float64\n",
       " sqft_living        int64\n",
       " sqft_lot           int64\n",
       " floors           float64\n",
       " waterfront         int64\n",
       " view               int64\n",
       " condition          int64\n",
       " grade              int64\n",
       " sqft_above         int64\n",
       " sqft_basement      int64\n",
       " yr_built           int64\n",
       " yr_renovated       int64\n",
       " zipcode            int64\n",
       " lat              float64\n",
       " long             float64\n",
       " sqft_living15      int64\n",
       " sqft_lot15         int64\n",
       " dtype: object,\n",
       " None,\n",
       "                  id         price      bedrooms     bathrooms   sqft_living  \\\n",
       " count  2.161300e+04  2.161300e+04  21613.000000  21613.000000  21613.000000   \n",
       " mean   4.580302e+09  5.400881e+05      3.370842      2.114757   2079.899736   \n",
       " std    2.876566e+09  3.671272e+05      0.930062      0.770163    918.440897   \n",
       " min    1.000102e+06  7.500000e+04      0.000000      0.000000    290.000000   \n",
       " 25%    2.123049e+09  3.219500e+05      3.000000      1.750000   1427.000000   \n",
       " 50%    3.904930e+09  4.500000e+05      3.000000      2.250000   1910.000000   \n",
       " 75%    7.308900e+09  6.450000e+05      4.000000      2.500000   2550.000000   \n",
       " max    9.900000e+09  7.700000e+06     33.000000      8.000000  13540.000000   \n",
       " \n",
       "            sqft_lot        floors    waterfront          view     condition  \\\n",
       " count  2.161300e+04  21613.000000  21613.000000  21613.000000  21613.000000   \n",
       " mean   1.510697e+04      1.494309      0.007542      0.234303      3.409430   \n",
       " std    4.142051e+04      0.539989      0.086517      0.766318      0.650743   \n",
       " min    5.200000e+02      1.000000      0.000000      0.000000      1.000000   \n",
       " 25%    5.040000e+03      1.000000      0.000000      0.000000      3.000000   \n",
       " 50%    7.618000e+03      1.500000      0.000000      0.000000      3.000000   \n",
       " 75%    1.068800e+04      2.000000      0.000000      0.000000      4.000000   \n",
       " max    1.651359e+06      3.500000      1.000000      4.000000      5.000000   \n",
       " \n",
       "               grade    sqft_above  sqft_basement      yr_built  yr_renovated  \\\n",
       " count  21613.000000  21613.000000   21613.000000  21613.000000  21613.000000   \n",
       " mean       7.656873   1788.390691     291.509045   1971.005136     84.402258   \n",
       " std        1.175459    828.090978     442.575043     29.373411    401.679240   \n",
       " min        1.000000    290.000000       0.000000   1900.000000      0.000000   \n",
       " 25%        7.000000   1190.000000       0.000000   1951.000000      0.000000   \n",
       " 50%        7.000000   1560.000000       0.000000   1975.000000      0.000000   \n",
       " 75%        8.000000   2210.000000     560.000000   1997.000000      0.000000   \n",
       " max       13.000000   9410.000000    4820.000000   2015.000000   2015.000000   \n",
       " \n",
       "             zipcode           lat          long  sqft_living15     sqft_lot15  \n",
       " count  21613.000000  21613.000000  21613.000000   21613.000000   21613.000000  \n",
       " mean   98077.939805     47.560053   -122.213896    1986.552492   12768.455652  \n",
       " std       53.505026      0.138564      0.140828     685.391304   27304.179631  \n",
       " min    98001.000000     47.155900   -122.519000     399.000000     651.000000  \n",
       " 25%    98033.000000     47.471000   -122.328000    1490.000000    5100.000000  \n",
       " 50%    98065.000000     47.571800   -122.230000    1840.000000    7620.000000  \n",
       " 75%    98118.000000     47.678000   -122.125000    2360.000000   10083.000000  \n",
       " max    98199.000000     47.777600   -121.315000    6210.000000  871200.000000  )"
      ]
     },
     "execution_count": 2,
     "metadata": {},
     "output_type": "execute_result"
    }
   ],
   "source": [
    "#Importing data\n",
    "sales_data = pd.read_csv('kc_house_data.csv')\n",
    "\n",
    "#exploring the data set \n",
    "sales_data.dtypes, sales_data.info(), sales_data.describe()"
   ]
  },
  {
   "cell_type": "code",
   "execution_count": 3,
   "metadata": {},
   "outputs": [
    {
     "data": {
      "text/plain": [
       "((17290, 21), (4323, 21))"
      ]
     },
     "execution_count": 3,
     "metadata": {},
     "output_type": "execute_result"
    }
   ],
   "source": [
    "#splitting data into train and test sets\n",
    "train_sales, test_sales = train_test_split(sales_data, train_size=0.80, test_size=0.20, random_state=100)\n",
    "train_sales.shape, test_sales.shape"
   ]
  },
  {
   "cell_type": "code",
   "execution_count": 4,
   "metadata": {},
   "outputs": [],
   "source": [
    "#defining a simple linear regression function\n",
    "\n",
    "def simple_linear_regression(input_feature, output):\n",
    "  sum_x = input_feature.sum()\n",
    "  sum_y = output.sum()\n",
    "  sum_yx = (input_feature*output).sum()\n",
    "  sum_xx = (input_feature**2).sum()\n",
    "  n = float(len(output))\n",
    "  slope = (sum_yx - (sum_y*sum_x)/n)/(sum_xx - (sum_x*sum_x)/n)\n",
    "  intercept = (sum_y/n) - slope*sum_x/n\n",
    "  return(intercept, slope)"
   ]
  },
  {
   "cell_type": "code",
   "execution_count": 5,
   "metadata": {},
   "outputs": [
    {
     "name": "stdout",
     "output_type": "stream",
     "text": [
      "Sqft intercept:  -42628.97651509417\n",
      "Sqft slope:  280.68541678774267\n"
     ]
    }
   ],
   "source": [
    "sqft_intercept, sqft_slope = simple_linear_regression(train_sales['sqft_living'], train_sales['price'])\n",
    "print(\"Sqft intercept: \", sqft_intercept)\n",
    "print(\"Sqft slope: \", sqft_slope)"
   ]
  },
  {
   "cell_type": "code",
   "execution_count": 6,
   "metadata": {},
   "outputs": [],
   "source": [
    "'''defining a simple function that takes parameter estimates above\n",
    "and makes predictions using input from the test data set'''\n",
    "\n",
    "def get_regression_predictions(input_feature, intercept, slope):\n",
    "  predicted_output = intercept + slope*input_feature\n",
    "  return(predicted_output)"
   ]
  },
  {
   "cell_type": "code",
   "execution_count": 7,
   "metadata": {},
   "outputs": [],
   "source": [
    "'''defining a function to calculate the error metric RSS'''\n",
    "def get_RSS(input_features, output, intercept, slope):\n",
    "  y_hat = intercept + slope*input_features\n",
    "  RSS = ((output-y_hat)**2).sum() \n",
    "  return(RSS)"
   ]
  },
  {
   "cell_type": "code",
   "execution_count": 8,
   "metadata": {},
   "outputs": [
    {
     "data": {
      "text/plain": [
       "1195070000113061.2"
      ]
     },
     "execution_count": 8,
     "metadata": {},
     "output_type": "execute_result"
    }
   ],
   "source": [
    "Computed_RSS_sqft = get_RSS(train_sales['sqft_living'], train_sales['price'], sqft_intercept, sqft_slope)\n",
    "Computed_RSS_sqft"
   ]
  },
  {
   "cell_type": "code",
   "execution_count": 9,
   "metadata": {},
   "outputs": [],
   "source": [
    "'''defining a function that takes a specific value for dependent variable\n",
    "and calculates the input value that would result in the specific value'''\n",
    "\n",
    "def inverse_regression_prediction(output, intercept, slope):\n",
    "  return (output-intercept)/float(slope)"
   ]
  },
  {
   "cell_type": "code",
   "execution_count": 10,
   "metadata": {},
   "outputs": [
    {
     "name": "stdout",
     "output_type": "stream",
     "text": [
      "Intercept for bedrooms:  135286.06806805916\n",
      "Slope for bedrooms:  120138.3170170902\n"
     ]
    }
   ],
   "source": [
    "bedroom_intercept, bedroom_slope = simple_linear_regression(train_sales['bedrooms'], train_sales['price'])\n",
    "print(\"Intercept for bedrooms: \", bedroom_intercept)\n",
    "print(\"Slope for bedrooms: \", bedroom_slope)"
   ]
  },
  {
   "cell_type": "code",
   "execution_count": 11,
   "metadata": {},
   "outputs": [
    {
     "data": {
      "text/plain": [
       "2112335899103246.5"
      ]
     },
     "execution_count": 11,
     "metadata": {},
     "output_type": "execute_result"
    }
   ],
   "source": [
    "Computed_RSS_bedroom = get_RSS(train_sales['bedrooms'],train_sales['price'], bedroom_intercept, bedroom_slope)\n",
    "Computed_RSS_bedroom"
   ]
  },
  {
   "cell_type": "markdown",
   "metadata": {},
   "source": [
    "Multiple Linear Regression \n",
    "\n",
    "1. Adding more than one input variable\n",
    "2. Comparing models of different complexities on RSS "
   ]
  },
  {
   "cell_type": "markdown",
   "metadata": {},
   "source": [
    "Adding new features\n",
    "\n",
    "some of the features added make no sense \n",
    "1. lat+long\n",
    "\n",
    "while others like \n",
    "\n",
    "1. bedroom squared increase the difference between houses with a too few bedrooms and too many bedrooms\n",
    "2. bed_bath_rooms is an interaction term \n",
    "3. log of sqft living helps de-emphasize outliers by bringing large values closer'''"
   ]
  },
  {
   "cell_type": "code",
   "execution_count": 12,
   "metadata": {},
   "outputs": [
    {
     "name": "stderr",
     "output_type": "stream",
     "text": [
      "<ipython-input-12-c4b0ea9ba42d>:1: SettingWithCopyWarning: \n",
      "A value is trying to be set on a copy of a slice from a DataFrame.\n",
      "Try using .loc[row_indexer,col_indexer] = value instead\n",
      "\n",
      "See the caveats in the documentation: https://pandas.pydata.org/pandas-docs/stable/user_guide/indexing.html#returning-a-view-versus-a-copy\n",
      "  train_sales['bedrooms_squared'],train_sales['bed_bath_rooms'],train_sales['log_sqft_living'],train_sales['lat_plus_long'] = [train_sales['bedrooms']*train_sales['bedrooms'], train_sales['bedrooms']*train_sales['bathrooms'],np.log(train_sales['sqft_living']),train_sales['lat']+train_sales['long']]\n",
      "<ipython-input-12-c4b0ea9ba42d>:2: SettingWithCopyWarning: \n",
      "A value is trying to be set on a copy of a slice from a DataFrame.\n",
      "Try using .loc[row_indexer,col_indexer] = value instead\n",
      "\n",
      "See the caveats in the documentation: https://pandas.pydata.org/pandas-docs/stable/user_guide/indexing.html#returning-a-view-versus-a-copy\n",
      "  test_sales['bedrooms_squared'],test_sales['bed_bath_rooms'],test_sales['log_sqft_living'],test_sales['lat_plus_long'] = [test_sales['bedrooms']*test_sales['bedrooms'], test_sales['bedrooms']*test_sales['bathrooms'],np.log(test_sales['sqft_living']),test_sales['lat']+test_sales['long']]\n"
     ]
    },
    {
     "data": {
      "text/html": [
       "<div>\n",
       "<style scoped>\n",
       "    .dataframe tbody tr th:only-of-type {\n",
       "        vertical-align: middle;\n",
       "    }\n",
       "\n",
       "    .dataframe tbody tr th {\n",
       "        vertical-align: top;\n",
       "    }\n",
       "\n",
       "    .dataframe thead th {\n",
       "        text-align: right;\n",
       "    }\n",
       "</style>\n",
       "<table border=\"1\" class=\"dataframe\">\n",
       "  <thead>\n",
       "    <tr style=\"text-align: right;\">\n",
       "      <th></th>\n",
       "      <th>id</th>\n",
       "      <th>date</th>\n",
       "      <th>price</th>\n",
       "      <th>bedrooms</th>\n",
       "      <th>bathrooms</th>\n",
       "      <th>sqft_living</th>\n",
       "      <th>sqft_lot</th>\n",
       "      <th>floors</th>\n",
       "      <th>waterfront</th>\n",
       "      <th>view</th>\n",
       "      <th>...</th>\n",
       "      <th>yr_renovated</th>\n",
       "      <th>zipcode</th>\n",
       "      <th>lat</th>\n",
       "      <th>long</th>\n",
       "      <th>sqft_living15</th>\n",
       "      <th>sqft_lot15</th>\n",
       "      <th>bedrooms_squared</th>\n",
       "      <th>bed_bath_rooms</th>\n",
       "      <th>log_sqft_living</th>\n",
       "      <th>lat_plus_long</th>\n",
       "    </tr>\n",
       "  </thead>\n",
       "  <tbody>\n",
       "    <tr>\n",
       "      <th>16000</th>\n",
       "      <td>2561340020</td>\n",
       "      <td>20140804T000000</td>\n",
       "      <td>325000.0</td>\n",
       "      <td>3</td>\n",
       "      <td>1.75</td>\n",
       "      <td>1780</td>\n",
       "      <td>11096</td>\n",
       "      <td>1.0</td>\n",
       "      <td>0</td>\n",
       "      <td>0</td>\n",
       "      <td>...</td>\n",
       "      <td>0</td>\n",
       "      <td>98074</td>\n",
       "      <td>47.6170</td>\n",
       "      <td>-122.051</td>\n",
       "      <td>1780</td>\n",
       "      <td>10640</td>\n",
       "      <td>9</td>\n",
       "      <td>5.25</td>\n",
       "      <td>7.484369</td>\n",
       "      <td>-74.4340</td>\n",
       "    </tr>\n",
       "    <tr>\n",
       "      <th>11286</th>\n",
       "      <td>8598200070</td>\n",
       "      <td>20141208T000000</td>\n",
       "      <td>278000.0</td>\n",
       "      <td>2</td>\n",
       "      <td>2.50</td>\n",
       "      <td>1420</td>\n",
       "      <td>2229</td>\n",
       "      <td>2.0</td>\n",
       "      <td>0</td>\n",
       "      <td>0</td>\n",
       "      <td>...</td>\n",
       "      <td>0</td>\n",
       "      <td>98059</td>\n",
       "      <td>47.4871</td>\n",
       "      <td>-122.165</td>\n",
       "      <td>1500</td>\n",
       "      <td>2230</td>\n",
       "      <td>4</td>\n",
       "      <td>5.00</td>\n",
       "      <td>7.258412</td>\n",
       "      <td>-74.6779</td>\n",
       "    </tr>\n",
       "    <tr>\n",
       "      <th>3201</th>\n",
       "      <td>6788200931</td>\n",
       "      <td>20140520T000000</td>\n",
       "      <td>710000.0</td>\n",
       "      <td>2</td>\n",
       "      <td>1.00</td>\n",
       "      <td>1790</td>\n",
       "      <td>4000</td>\n",
       "      <td>1.0</td>\n",
       "      <td>0</td>\n",
       "      <td>0</td>\n",
       "      <td>...</td>\n",
       "      <td>0</td>\n",
       "      <td>98112</td>\n",
       "      <td>47.6405</td>\n",
       "      <td>-122.301</td>\n",
       "      <td>1310</td>\n",
       "      <td>4000</td>\n",
       "      <td>4</td>\n",
       "      <td>2.00</td>\n",
       "      <td>7.489971</td>\n",
       "      <td>-74.6605</td>\n",
       "    </tr>\n",
       "    <tr>\n",
       "      <th>11049</th>\n",
       "      <td>3023059012</td>\n",
       "      <td>20140910T000000</td>\n",
       "      <td>389900.0</td>\n",
       "      <td>4</td>\n",
       "      <td>1.00</td>\n",
       "      <td>1710</td>\n",
       "      <td>117176</td>\n",
       "      <td>1.5</td>\n",
       "      <td>0</td>\n",
       "      <td>0</td>\n",
       "      <td>...</td>\n",
       "      <td>0</td>\n",
       "      <td>98055</td>\n",
       "      <td>47.4497</td>\n",
       "      <td>-122.212</td>\n",
       "      <td>1940</td>\n",
       "      <td>12223</td>\n",
       "      <td>16</td>\n",
       "      <td>4.00</td>\n",
       "      <td>7.444249</td>\n",
       "      <td>-74.7623</td>\n",
       "    </tr>\n",
       "    <tr>\n",
       "      <th>9716</th>\n",
       "      <td>5683500030</td>\n",
       "      <td>20150320T000000</td>\n",
       "      <td>489000.0</td>\n",
       "      <td>4</td>\n",
       "      <td>1.00</td>\n",
       "      <td>1150</td>\n",
       "      <td>5217</td>\n",
       "      <td>1.5</td>\n",
       "      <td>0</td>\n",
       "      <td>0</td>\n",
       "      <td>...</td>\n",
       "      <td>0</td>\n",
       "      <td>98115</td>\n",
       "      <td>47.6806</td>\n",
       "      <td>-122.287</td>\n",
       "      <td>1220</td>\n",
       "      <td>5217</td>\n",
       "      <td>16</td>\n",
       "      <td>4.00</td>\n",
       "      <td>7.047517</td>\n",
       "      <td>-74.6064</td>\n",
       "    </tr>\n",
       "  </tbody>\n",
       "</table>\n",
       "<p>5 rows × 25 columns</p>\n",
       "</div>"
      ],
      "text/plain": [
       "               id             date     price  bedrooms  bathrooms  \\\n",
       "16000  2561340020  20140804T000000  325000.0         3       1.75   \n",
       "11286  8598200070  20141208T000000  278000.0         2       2.50   \n",
       "3201   6788200931  20140520T000000  710000.0         2       1.00   \n",
       "11049  3023059012  20140910T000000  389900.0         4       1.00   \n",
       "9716   5683500030  20150320T000000  489000.0         4       1.00   \n",
       "\n",
       "       sqft_living  sqft_lot  floors  waterfront  view  ...  yr_renovated  \\\n",
       "16000         1780     11096     1.0           0     0  ...             0   \n",
       "11286         1420      2229     2.0           0     0  ...             0   \n",
       "3201          1790      4000     1.0           0     0  ...             0   \n",
       "11049         1710    117176     1.5           0     0  ...             0   \n",
       "9716          1150      5217     1.5           0     0  ...             0   \n",
       "\n",
       "       zipcode      lat     long  sqft_living15  sqft_lot15  bedrooms_squared  \\\n",
       "16000    98074  47.6170 -122.051           1780       10640                 9   \n",
       "11286    98059  47.4871 -122.165           1500        2230                 4   \n",
       "3201     98112  47.6405 -122.301           1310        4000                 4   \n",
       "11049    98055  47.4497 -122.212           1940       12223                16   \n",
       "9716     98115  47.6806 -122.287           1220        5217                16   \n",
       "\n",
       "       bed_bath_rooms  log_sqft_living  lat_plus_long  \n",
       "16000            5.25         7.484369       -74.4340  \n",
       "11286            5.00         7.258412       -74.6779  \n",
       "3201             2.00         7.489971       -74.6605  \n",
       "11049            4.00         7.444249       -74.7623  \n",
       "9716             4.00         7.047517       -74.6064  \n",
       "\n",
       "[5 rows x 25 columns]"
      ]
     },
     "execution_count": 12,
     "metadata": {},
     "output_type": "execute_result"
    }
   ],
   "source": [
    "train_sales['bedrooms_squared'],train_sales['bed_bath_rooms'],train_sales['log_sqft_living'],train_sales['lat_plus_long'] = [train_sales['bedrooms']*train_sales['bedrooms'], train_sales['bedrooms']*train_sales['bathrooms'],np.log(train_sales['sqft_living']),train_sales['lat']+train_sales['long']]\n",
    "test_sales['bedrooms_squared'],test_sales['bed_bath_rooms'],test_sales['log_sqft_living'],test_sales['lat_plus_long'] = [test_sales['bedrooms']*test_sales['bedrooms'], test_sales['bedrooms']*test_sales['bathrooms'],np.log(test_sales['sqft_living']),test_sales['lat']+test_sales['long']]\n",
    "train_sales.head()\n"
   ]
  },
  {
   "cell_type": "markdown",
   "metadata": {},
   "source": [
    "Specifying different models of varying complexities"
   ]
  },
  {
   "cell_type": "code",
   "execution_count": 13,
   "metadata": {},
   "outputs": [],
   "source": [
    "model_1_features = ['sqft_living', 'bedrooms', 'bathrooms', 'lat', 'long']\n",
    "model_2_features = model_1_features + ['bed_bath_rooms']\n",
    "model_3_features = model_2_features + ['bedrooms_squared', 'log_sqft_living', 'lat_plus_long']"
   ]
  },
  {
   "cell_type": "code",
   "execution_count": 14,
   "metadata": {},
   "outputs": [
    {
     "data": {
      "text/plain": [
       "23"
      ]
     },
     "execution_count": 14,
     "metadata": {},
     "output_type": "execute_result"
    }
   ],
   "source": [
    "numeric_cols = train_sales.select_dtypes(include=np.number).columns.tolist()\n",
    "numeric_cols.remove('id')\n",
    "len(numeric_cols)"
   ]
  },
  {
   "cell_type": "markdown",
   "metadata": {},
   "source": [
    "Redifining RSS function to calculate RSS using observed and predicted values"
   ]
  },
  {
   "cell_type": "code",
   "execution_count": 15,
   "metadata": {},
   "outputs": [],
   "source": [
    "def get_RSS(output, predictions):\n",
    "  RSS = ((output-predictions)**2).sum() \n",
    "  return(RSS)"
   ]
  },
  {
   "cell_type": "markdown",
   "metadata": {},
   "source": [
    "Training all the models"
   ]
  },
  {
   "cell_type": "code",
   "execution_count": 16,
   "metadata": {},
   "outputs": [],
   "source": [
    "X = train_sales[model_1_features]\n",
    "y = train_sales['price']\n",
    "model_1 = sm.OLS(y,X).fit()\n",
    "predictions = model_1.predict(X)"
   ]
  },
  {
   "cell_type": "code",
   "execution_count": 17,
   "metadata": {},
   "outputs": [
    {
     "data": {
      "text/html": [
       "<table class=\"simpletable\">\n",
       "<caption>OLS Regression Results</caption>\n",
       "<tr>\n",
       "  <th>Dep. Variable:</th>          <td>price</td>      <th>  R-squared (uncentered):</th>       <td>   0.855</td>  \n",
       "</tr>\n",
       "<tr>\n",
       "  <th>Model:</th>                   <td>OLS</td>       <th>  Adj. R-squared (uncentered):</th>  <td>   0.855</td>  \n",
       "</tr>\n",
       "<tr>\n",
       "  <th>Method:</th>             <td>Least Squares</td>  <th>  F-statistic:       </th>           <td>2.039e+04</td> \n",
       "</tr>\n",
       "<tr>\n",
       "  <th>Date:</th>             <td>Fri, 06 Nov 2020</td> <th>  Prob (F-statistic):</th>            <td>  0.00</td>   \n",
       "</tr>\n",
       "<tr>\n",
       "  <th>Time:</th>                 <td>16:46:46</td>     <th>  Log-Likelihood:    </th>          <td>-2.3933e+05</td>\n",
       "</tr>\n",
       "<tr>\n",
       "  <th>No. Observations:</th>      <td> 17290</td>      <th>  AIC:               </th>           <td>4.787e+05</td> \n",
       "</tr>\n",
       "<tr>\n",
       "  <th>Df Residuals:</th>          <td> 17285</td>      <th>  BIC:               </th>           <td>4.787e+05</td> \n",
       "</tr>\n",
       "<tr>\n",
       "  <th>Df Model:</th>              <td>     5</td>      <th>                     </th>               <td> </td>     \n",
       "</tr>\n",
       "<tr>\n",
       "  <th>Covariance Type:</th>      <td>nonrobust</td>    <th>                     </th>               <td> </td>     \n",
       "</tr>\n",
       "</table>\n",
       "<table class=\"simpletable\">\n",
       "<tr>\n",
       "       <td></td>          <th>coef</th>     <th>std err</th>      <th>t</th>      <th>P>|t|</th>  <th>[0.025</th>    <th>0.975]</th>  \n",
       "</tr>\n",
       "<tr>\n",
       "  <th>sqft_living</th> <td>  293.5557</td> <td>    3.382</td> <td>   86.806</td> <td> 0.000</td> <td>  286.927</td> <td>  300.184</td>\n",
       "</tr>\n",
       "<tr>\n",
       "  <th>bedrooms</th>    <td>-5.218e+04</td> <td> 2501.600</td> <td>  -20.857</td> <td> 0.000</td> <td>-5.71e+04</td> <td>-4.73e+04</td>\n",
       "</tr>\n",
       "<tr>\n",
       "  <th>bathrooms</th>   <td> 9423.3448</td> <td> 3804.545</td> <td>    2.477</td> <td> 0.013</td> <td> 1966.051</td> <td> 1.69e+04</td>\n",
       "</tr>\n",
       "<tr>\n",
       "  <th>lat</th>         <td> 5.296e+05</td> <td> 1.35e+04</td> <td>   39.306</td> <td> 0.000</td> <td> 5.03e+05</td> <td> 5.56e+05</td>\n",
       "</tr>\n",
       "<tr>\n",
       "  <th>long</th>        <td> 2.054e+05</td> <td> 5240.665</td> <td>   39.190</td> <td> 0.000</td> <td> 1.95e+05</td> <td> 2.16e+05</td>\n",
       "</tr>\n",
       "</table>\n",
       "<table class=\"simpletable\">\n",
       "<tr>\n",
       "  <th>Omnibus:</th>       <td>13247.221</td> <th>  Durbin-Watson:     </th>  <td>   2.015</td> \n",
       "</tr>\n",
       "<tr>\n",
       "  <th>Prob(Omnibus):</th>  <td> 0.000</td>   <th>  Jarque-Bera (JB):  </th> <td>598071.263</td>\n",
       "</tr>\n",
       "<tr>\n",
       "  <th>Skew:</th>           <td> 3.271</td>   <th>  Prob(JB):          </th>  <td>    0.00</td> \n",
       "</tr>\n",
       "<tr>\n",
       "  <th>Kurtosis:</th>       <td>31.060</td>   <th>  Cond. No.          </th>  <td>1.74e+04</td> \n",
       "</tr>\n",
       "</table><br/><br/>Warnings:<br/>[1] Standard Errors assume that the covariance matrix of the errors is correctly specified.<br/>[2] The condition number is large, 1.74e+04. This might indicate that there are<br/>strong multicollinearity or other numerical problems."
      ],
      "text/plain": [
       "<class 'statsmodels.iolib.summary.Summary'>\n",
       "\"\"\"\n",
       "                                 OLS Regression Results                                \n",
       "=======================================================================================\n",
       "Dep. Variable:                  price   R-squared (uncentered):                   0.855\n",
       "Model:                            OLS   Adj. R-squared (uncentered):              0.855\n",
       "Method:                 Least Squares   F-statistic:                          2.039e+04\n",
       "Date:                Fri, 06 Nov 2020   Prob (F-statistic):                        0.00\n",
       "Time:                        16:46:46   Log-Likelihood:                     -2.3933e+05\n",
       "No. Observations:               17290   AIC:                                  4.787e+05\n",
       "Df Residuals:                   17285   BIC:                                  4.787e+05\n",
       "Df Model:                           5                                                  \n",
       "Covariance Type:            nonrobust                                                  \n",
       "===============================================================================\n",
       "                  coef    std err          t      P>|t|      [0.025      0.975]\n",
       "-------------------------------------------------------------------------------\n",
       "sqft_living   293.5557      3.382     86.806      0.000     286.927     300.184\n",
       "bedrooms    -5.218e+04   2501.600    -20.857      0.000   -5.71e+04   -4.73e+04\n",
       "bathrooms    9423.3448   3804.545      2.477      0.013    1966.051    1.69e+04\n",
       "lat          5.296e+05   1.35e+04     39.306      0.000    5.03e+05    5.56e+05\n",
       "long         2.054e+05   5240.665     39.190      0.000    1.95e+05    2.16e+05\n",
       "==============================================================================\n",
       "Omnibus:                    13247.221   Durbin-Watson:                   2.015\n",
       "Prob(Omnibus):                  0.000   Jarque-Bera (JB):           598071.263\n",
       "Skew:                           3.271   Prob(JB):                         0.00\n",
       "Kurtosis:                      31.060   Cond. No.                     1.74e+04\n",
       "==============================================================================\n",
       "\n",
       "Warnings:\n",
       "[1] Standard Errors assume that the covariance matrix of the errors is correctly specified.\n",
       "[2] The condition number is large, 1.74e+04. This might indicate that there are\n",
       "strong multicollinearity or other numerical problems.\n",
       "\"\"\""
      ]
     },
     "execution_count": 17,
     "metadata": {},
     "output_type": "execute_result"
    }
   ],
   "source": [
    "model_1.summary()"
   ]
  },
  {
   "cell_type": "code",
   "execution_count": null,
   "metadata": {},
   "outputs": [],
   "source": []
  },
  {
   "cell_type": "code",
   "execution_count": 18,
   "metadata": {},
   "outputs": [],
   "source": [
    "X = train_sales[model_2_features]\n",
    "y = train_sales['price']\n",
    "model_2 = sm.OLS(y,X).fit()\n",
    "predictions_2 = model_2.predict(X)"
   ]
  },
  {
   "cell_type": "code",
   "execution_count": 19,
   "metadata": {},
   "outputs": [
    {
     "data": {
      "text/html": [
       "<table class=\"simpletable\">\n",
       "<caption>OLS Regression Results</caption>\n",
       "<tr>\n",
       "  <th>Dep. Variable:</th>          <td>price</td>      <th>  R-squared (uncentered):</th>       <td>   0.858</td>  \n",
       "</tr>\n",
       "<tr>\n",
       "  <th>Model:</th>                   <td>OLS</td>       <th>  Adj. R-squared (uncentered):</th>  <td>   0.858</td>  \n",
       "</tr>\n",
       "<tr>\n",
       "  <th>Method:</th>             <td>Least Squares</td>  <th>  F-statistic:       </th>           <td>1.736e+04</td> \n",
       "</tr>\n",
       "<tr>\n",
       "  <th>Date:</th>             <td>Fri, 06 Nov 2020</td> <th>  Prob (F-statistic):</th>            <td>  0.00</td>   \n",
       "</tr>\n",
       "<tr>\n",
       "  <th>Time:</th>                 <td>16:46:46</td>     <th>  Log-Likelihood:    </th>          <td>-2.3917e+05</td>\n",
       "</tr>\n",
       "<tr>\n",
       "  <th>No. Observations:</th>      <td> 17290</td>      <th>  AIC:               </th>           <td>4.784e+05</td> \n",
       "</tr>\n",
       "<tr>\n",
       "  <th>Df Residuals:</th>          <td> 17284</td>      <th>  BIC:               </th>           <td>4.784e+05</td> \n",
       "</tr>\n",
       "<tr>\n",
       "  <th>Df Model:</th>              <td>     6</td>      <th>                     </th>               <td> </td>     \n",
       "</tr>\n",
       "<tr>\n",
       "  <th>Covariance Type:</th>      <td>nonrobust</td>    <th>                     </th>               <td> </td>     \n",
       "</tr>\n",
       "</table>\n",
       "<table class=\"simpletable\">\n",
       "<tr>\n",
       "         <td></td>           <th>coef</th>     <th>std err</th>      <th>t</th>      <th>P>|t|</th>  <th>[0.025</th>    <th>0.975]</th>  \n",
       "</tr>\n",
       "<tr>\n",
       "  <th>sqft_living</th>    <td>  285.0825</td> <td>    3.385</td> <td>   84.226</td> <td> 0.000</td> <td>  278.448</td> <td>  291.717</td>\n",
       "</tr>\n",
       "<tr>\n",
       "  <th>bedrooms</th>       <td>-1.283e+05</td> <td> 4937.698</td> <td>  -25.983</td> <td> 0.000</td> <td>-1.38e+05</td> <td>-1.19e+05</td>\n",
       "</tr>\n",
       "<tr>\n",
       "  <th>bathrooms</th>      <td> -1.16e+05</td> <td> 7981.615</td> <td>  -14.530</td> <td> 0.000</td> <td>-1.32e+05</td> <td>   -1e+05</td>\n",
       "</tr>\n",
       "<tr>\n",
       "  <th>lat</th>            <td>   5.3e+05</td> <td> 1.34e+04</td> <td>   39.692</td> <td> 0.000</td> <td> 5.04e+05</td> <td> 5.56e+05</td>\n",
       "</tr>\n",
       "<tr>\n",
       "  <th>long</th>           <td> 2.034e+05</td> <td> 5194.502</td> <td>   39.155</td> <td> 0.000</td> <td> 1.93e+05</td> <td> 2.14e+05</td>\n",
       "</tr>\n",
       "<tr>\n",
       "  <th>bed_bath_rooms</th> <td> 3.711e+04</td> <td> 2081.891</td> <td>   17.825</td> <td> 0.000</td> <td>  3.3e+04</td> <td> 4.12e+04</td>\n",
       "</tr>\n",
       "</table>\n",
       "<table class=\"simpletable\">\n",
       "<tr>\n",
       "  <th>Omnibus:</th>       <td>12232.502</td> <th>  Durbin-Watson:     </th>  <td>   2.014</td> \n",
       "</tr>\n",
       "<tr>\n",
       "  <th>Prob(Omnibus):</th>  <td> 0.000</td>   <th>  Jarque-Bera (JB):  </th> <td>441011.443</td>\n",
       "</tr>\n",
       "<tr>\n",
       "  <th>Skew:</th>           <td> 2.965</td>   <th>  Prob(JB):          </th>  <td>    0.00</td> \n",
       "</tr>\n",
       "<tr>\n",
       "  <th>Kurtosis:</th>       <td>27.021</td>   <th>  Cond. No.          </th>  <td>1.74e+04</td> \n",
       "</tr>\n",
       "</table><br/><br/>Warnings:<br/>[1] Standard Errors assume that the covariance matrix of the errors is correctly specified.<br/>[2] The condition number is large, 1.74e+04. This might indicate that there are<br/>strong multicollinearity or other numerical problems."
      ],
      "text/plain": [
       "<class 'statsmodels.iolib.summary.Summary'>\n",
       "\"\"\"\n",
       "                                 OLS Regression Results                                \n",
       "=======================================================================================\n",
       "Dep. Variable:                  price   R-squared (uncentered):                   0.858\n",
       "Model:                            OLS   Adj. R-squared (uncentered):              0.858\n",
       "Method:                 Least Squares   F-statistic:                          1.736e+04\n",
       "Date:                Fri, 06 Nov 2020   Prob (F-statistic):                        0.00\n",
       "Time:                        16:46:46   Log-Likelihood:                     -2.3917e+05\n",
       "No. Observations:               17290   AIC:                                  4.784e+05\n",
       "Df Residuals:                   17284   BIC:                                  4.784e+05\n",
       "Df Model:                           6                                                  \n",
       "Covariance Type:            nonrobust                                                  \n",
       "==================================================================================\n",
       "                     coef    std err          t      P>|t|      [0.025      0.975]\n",
       "----------------------------------------------------------------------------------\n",
       "sqft_living      285.0825      3.385     84.226      0.000     278.448     291.717\n",
       "bedrooms       -1.283e+05   4937.698    -25.983      0.000   -1.38e+05   -1.19e+05\n",
       "bathrooms       -1.16e+05   7981.615    -14.530      0.000   -1.32e+05      -1e+05\n",
       "lat               5.3e+05   1.34e+04     39.692      0.000    5.04e+05    5.56e+05\n",
       "long            2.034e+05   5194.502     39.155      0.000    1.93e+05    2.14e+05\n",
       "bed_bath_rooms  3.711e+04   2081.891     17.825      0.000     3.3e+04    4.12e+04\n",
       "==============================================================================\n",
       "Omnibus:                    12232.502   Durbin-Watson:                   2.014\n",
       "Prob(Omnibus):                  0.000   Jarque-Bera (JB):           441011.443\n",
       "Skew:                           2.965   Prob(JB):                         0.00\n",
       "Kurtosis:                      27.021   Cond. No.                     1.74e+04\n",
       "==============================================================================\n",
       "\n",
       "Warnings:\n",
       "[1] Standard Errors assume that the covariance matrix of the errors is correctly specified.\n",
       "[2] The condition number is large, 1.74e+04. This might indicate that there are\n",
       "strong multicollinearity or other numerical problems.\n",
       "\"\"\""
      ]
     },
     "execution_count": 19,
     "metadata": {},
     "output_type": "execute_result"
    }
   ],
   "source": [
    "model_2.summary()"
   ]
  },
  {
   "cell_type": "code",
   "execution_count": null,
   "metadata": {},
   "outputs": [],
   "source": []
  },
  {
   "cell_type": "code",
   "execution_count": 20,
   "metadata": {},
   "outputs": [],
   "source": [
    "X = train_sales[model_3_features]\n",
    "y = train_sales['price']\n",
    "model_3 = sm.OLS(y,X).fit()\n",
    "predictions_3 = model_3.predict(X)"
   ]
  },
  {
   "cell_type": "code",
   "execution_count": 21,
   "metadata": {},
   "outputs": [
    {
     "data": {
      "text/html": [
       "<table class=\"simpletable\">\n",
       "<caption>OLS Regression Results</caption>\n",
       "<tr>\n",
       "  <th>Dep. Variable:</th>          <td>price</td>      <th>  R-squared (uncentered):</th>       <td>   0.867</td>  \n",
       "</tr>\n",
       "<tr>\n",
       "  <th>Model:</th>                   <td>OLS</td>       <th>  Adj. R-squared (uncentered):</th>  <td>   0.867</td>  \n",
       "</tr>\n",
       "<tr>\n",
       "  <th>Method:</th>             <td>Least Squares</td>  <th>  F-statistic:       </th>           <td>1.404e+04</td> \n",
       "</tr>\n",
       "<tr>\n",
       "  <th>Date:</th>             <td>Fri, 06 Nov 2020</td> <th>  Prob (F-statistic):</th>            <td>  0.00</td>   \n",
       "</tr>\n",
       "<tr>\n",
       "  <th>Time:</th>                 <td>16:46:46</td>     <th>  Log-Likelihood:    </th>          <td>-2.3861e+05</td>\n",
       "</tr>\n",
       "<tr>\n",
       "  <th>No. Observations:</th>      <td> 17290</td>      <th>  AIC:               </th>           <td>4.772e+05</td> \n",
       "</tr>\n",
       "<tr>\n",
       "  <th>Df Residuals:</th>          <td> 17282</td>      <th>  BIC:               </th>           <td>4.773e+05</td> \n",
       "</tr>\n",
       "<tr>\n",
       "  <th>Df Model:</th>              <td>     8</td>      <th>                     </th>               <td> </td>     \n",
       "</tr>\n",
       "<tr>\n",
       "  <th>Covariance Type:</th>      <td>nonrobust</td>    <th>                     </th>               <td> </td>     \n",
       "</tr>\n",
       "</table>\n",
       "<table class=\"simpletable\">\n",
       "<tr>\n",
       "          <td></td>            <th>coef</th>     <th>std err</th>      <th>t</th>      <th>P>|t|</th>  <th>[0.025</th>    <th>0.975]</th>  \n",
       "</tr>\n",
       "<tr>\n",
       "  <th>sqft_living</th>      <td>  538.4166</td> <td>    8.247</td> <td>   65.286</td> <td> 0.000</td> <td>  522.252</td> <td>  554.582</td>\n",
       "</tr>\n",
       "<tr>\n",
       "  <th>bedrooms</th>         <td>-1.394e+04</td> <td> 6760.671</td> <td>   -2.063</td> <td> 0.039</td> <td>-2.72e+04</td> <td> -692.543</td>\n",
       "</tr>\n",
       "<tr>\n",
       "  <th>bathrooms</th>        <td> 7.201e+04</td> <td> 9507.927</td> <td>    7.573</td> <td> 0.000</td> <td> 5.34e+04</td> <td> 9.06e+04</td>\n",
       "</tr>\n",
       "<tr>\n",
       "  <th>lat</th>              <td> 3.014e+05</td> <td> 6962.706</td> <td>   43.286</td> <td> 0.000</td> <td> 2.88e+05</td> <td> 3.15e+05</td>\n",
       "</tr>\n",
       "<tr>\n",
       "  <th>long</th>             <td>-6.196e+04</td> <td> 1150.819</td> <td>  -53.839</td> <td> 0.000</td> <td>-6.42e+04</td> <td>-5.97e+04</td>\n",
       "</tr>\n",
       "<tr>\n",
       "  <th>bed_bath_rooms</th>   <td>-1.025e+04</td> <td> 2454.084</td> <td>   -4.176</td> <td> 0.000</td> <td>-1.51e+04</td> <td>-5438.344</td>\n",
       "</tr>\n",
       "<tr>\n",
       "  <th>bedrooms_squared</th> <td>  952.4487</td> <td>  285.912</td> <td>    3.331</td> <td> 0.001</td> <td>  392.032</td> <td> 1512.865</td>\n",
       "</tr>\n",
       "<tr>\n",
       "  <th>log_sqft_living</th>  <td> -6.16e+05</td> <td> 1.86e+04</td> <td>  -33.091</td> <td> 0.000</td> <td>-6.52e+05</td> <td>-5.79e+05</td>\n",
       "</tr>\n",
       "<tr>\n",
       "  <th>lat_plus_long</th>    <td> 2.394e+05</td> <td> 5986.928</td> <td>   39.992</td> <td> 0.000</td> <td> 2.28e+05</td> <td> 2.51e+05</td>\n",
       "</tr>\n",
       "</table>\n",
       "<table class=\"simpletable\">\n",
       "<tr>\n",
       "  <th>Omnibus:</th>       <td>10122.076</td> <th>  Durbin-Watson:     </th>  <td>   2.015</td> \n",
       "</tr>\n",
       "<tr>\n",
       "  <th>Prob(Omnibus):</th>  <td> 0.000</td>   <th>  Jarque-Bera (JB):  </th> <td>281639.033</td>\n",
       "</tr>\n",
       "<tr>\n",
       "  <th>Skew:</th>           <td> 2.310</td>   <th>  Prob(JB):          </th>  <td>    0.00</td> \n",
       "</tr>\n",
       "<tr>\n",
       "  <th>Kurtosis:</th>       <td>22.225</td>   <th>  Cond. No.          </th>  <td>1.32e+17</td> \n",
       "</tr>\n",
       "</table><br/><br/>Warnings:<br/>[1] Standard Errors assume that the covariance matrix of the errors is correctly specified.<br/>[2] The smallest eigenvalue is 5.11e-24. This might indicate that there are<br/>strong multicollinearity problems or that the design matrix is singular."
      ],
      "text/plain": [
       "<class 'statsmodels.iolib.summary.Summary'>\n",
       "\"\"\"\n",
       "                                 OLS Regression Results                                \n",
       "=======================================================================================\n",
       "Dep. Variable:                  price   R-squared (uncentered):                   0.867\n",
       "Model:                            OLS   Adj. R-squared (uncentered):              0.867\n",
       "Method:                 Least Squares   F-statistic:                          1.404e+04\n",
       "Date:                Fri, 06 Nov 2020   Prob (F-statistic):                        0.00\n",
       "Time:                        16:46:46   Log-Likelihood:                     -2.3861e+05\n",
       "No. Observations:               17290   AIC:                                  4.772e+05\n",
       "Df Residuals:                   17282   BIC:                                  4.773e+05\n",
       "Df Model:                           8                                                  \n",
       "Covariance Type:            nonrobust                                                  \n",
       "====================================================================================\n",
       "                       coef    std err          t      P>|t|      [0.025      0.975]\n",
       "------------------------------------------------------------------------------------\n",
       "sqft_living        538.4166      8.247     65.286      0.000     522.252     554.582\n",
       "bedrooms         -1.394e+04   6760.671     -2.063      0.039   -2.72e+04    -692.543\n",
       "bathrooms         7.201e+04   9507.927      7.573      0.000    5.34e+04    9.06e+04\n",
       "lat               3.014e+05   6962.706     43.286      0.000    2.88e+05    3.15e+05\n",
       "long             -6.196e+04   1150.819    -53.839      0.000   -6.42e+04   -5.97e+04\n",
       "bed_bath_rooms   -1.025e+04   2454.084     -4.176      0.000   -1.51e+04   -5438.344\n",
       "bedrooms_squared   952.4487    285.912      3.331      0.001     392.032    1512.865\n",
       "log_sqft_living   -6.16e+05   1.86e+04    -33.091      0.000   -6.52e+05   -5.79e+05\n",
       "lat_plus_long     2.394e+05   5986.928     39.992      0.000    2.28e+05    2.51e+05\n",
       "==============================================================================\n",
       "Omnibus:                    10122.076   Durbin-Watson:                   2.015\n",
       "Prob(Omnibus):                  0.000   Jarque-Bera (JB):           281639.033\n",
       "Skew:                           2.310   Prob(JB):                         0.00\n",
       "Kurtosis:                      22.225   Cond. No.                     1.32e+17\n",
       "==============================================================================\n",
       "\n",
       "Warnings:\n",
       "[1] Standard Errors assume that the covariance matrix of the errors is correctly specified.\n",
       "[2] The smallest eigenvalue is 5.11e-24. This might indicate that there are\n",
       "strong multicollinearity problems or that the design matrix is singular.\n",
       "\"\"\""
      ]
     },
     "execution_count": 21,
     "metadata": {},
     "output_type": "execute_result"
    }
   ],
   "source": [
    "model_3.summary()"
   ]
  },
  {
   "cell_type": "code",
   "execution_count": 22,
   "metadata": {},
   "outputs": [],
   "source": [
    "RSS_1 = get_RSS(train_sales['price'],predictions)\n",
    "RSS_2 = get_RSS(train_sales['price'],predictions_2)\n",
    "RSS_3 = get_RSS(train_sales['price'],predictions_3)"
   ]
  },
  {
   "cell_type": "code",
   "execution_count": 23,
   "metadata": {},
   "outputs": [
    {
     "data": {
      "text/plain": [
       "{'Model_1': 1067298280396458.1,\n",
       " 'Model_2': 1048032346607161.6,\n",
       " 'Model_3': 981772503767513.4}"
      ]
     },
     "execution_count": 23,
     "metadata": {},
     "output_type": "execute_result"
    }
   ],
   "source": [
    "RSS = {'Model_1':RSS_1, 'Model_2':RSS_2, 'Model_3':RSS_3}\n",
    "RSS"
   ]
  },
  {
   "cell_type": "code",
   "execution_count": 24,
   "metadata": {},
   "outputs": [
    {
     "name": "stdout",
     "output_type": "stream",
     "text": [
      "The model with the lowest RSS is Model_3 and has an RSS of 981772503767513.4\n"
     ]
    }
   ],
   "source": [
    "print('The model with the lowest RSS is {} and has an RSS of {}'.format(min(RSS, key=lambda k: RSS[k]), min(RSS.values())))"
   ]
  }
 ],
 "metadata": {
  "kernelspec": {
   "display_name": "Python 3",
   "language": "python",
   "name": "python3"
  },
  "language_info": {
   "codemirror_mode": {
    "name": "ipython",
    "version": 3
   },
   "file_extension": ".py",
   "mimetype": "text/x-python",
   "name": "python",
   "nbconvert_exporter": "python",
   "pygments_lexer": "ipython3",
   "version": "3.8.3"
  }
 },
 "nbformat": 4,
 "nbformat_minor": 4
}
