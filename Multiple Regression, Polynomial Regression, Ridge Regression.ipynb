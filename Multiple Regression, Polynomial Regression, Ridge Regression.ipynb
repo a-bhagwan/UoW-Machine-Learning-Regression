{
 "cells": [
  {
   "cell_type": "code",
   "execution_count": 240,
   "metadata": {},
   "outputs": [],
   "source": [
    "import numpy as np\n",
    "import pandas as pd\n",
    "from math import sqrt\n",
    "from sklearn.model_selection import train_test_split\n",
    "import matplotlib.pyplot as plt\n",
    "import sklearn.linear_model as skllm\n",
    "%matplotlib inline"
   ]
  },
  {
   "cell_type": "markdown",
   "metadata": {},
   "source": [
    "Multiple Linear Regression \n",
    "1. defining a function that returns a features matrix with an additional column for the intercept\n",
    "2. defining a function that uses given weights and the features matrix to estimate predicted values \n",
    "3. defining a function that calculates partial derivatives of the cost function (RSS) for a given set of weights\n",
    "4. defining a function that implements the gradient descent where weights on every feature are iteratively updated as magnitude of the gradient (which is the sqrt of the sum of all partial derivatives and returns a list of the final weights once the magnitude of the gradient hits a threshold (lowest value accepted)"
   ]
  },
  {
   "cell_type": "code",
   "execution_count": 241,
   "metadata": {},
   "outputs": [],
   "source": [
    "sales_data = pd.read_csv(\"kc_house_data.csv\")\n",
    "#splitting data into train and test sets\n",
    "train_sales = pd.read_csv(\"kc_house_train_data.csv\")\n",
    "test_sales = pd.read_csv(\"kc_house_test_data.csv\")"
   ]
  },
  {
   "cell_type": "code",
   "execution_count": 242,
   "metadata": {},
   "outputs": [],
   "source": [
    "def get_features_matrix(dataframe, features, output):\n",
    "  dataframe['constant'] = 1\n",
    "  features = ['constant'] + features\n",
    "  #print(features)\n",
    "  features_matrix = dataframe[features].to_numpy()\n",
    "  output_array = dataframe[output].to_numpy()\n",
    "  #print(features_matrix)\n",
    "  return (features_matrix,output_array)"
   ]
  },
  {
   "cell_type": "code",
   "execution_count": 243,
   "metadata": {},
   "outputs": [],
   "source": [
    "def predict_outcome(features_matrix,weights):\n",
    "  predictions = np.dot(features_matrix, weights)\n",
    "  return (predictions)"
   ]
  },
  {
   "cell_type": "code",
   "execution_count": 244,
   "metadata": {},
   "outputs": [],
   "source": [
    "def feature_derivative(errors, feature):\n",
    "  derivative = 2*np.dot(feature,errors)\n",
    "  return (derivative)"
   ]
  },
  {
   "cell_type": "code",
   "execution_count": 245,
   "metadata": {},
   "outputs": [],
   "source": [
    "def regression_gradient_descent(feature_matrix, output, initial_weights, step_size, tolerance):\n",
    "    converged = False \n",
    "    weights = np.array(initial_weights) # make sure it's a numpy array\n",
    "    while not converged:\n",
    "        # compute the predictions based on feature_matrix and weights using your predict_output() function\n",
    "        predictions = predict_outcome(feature_matrix, weights)\n",
    "        # compute the errors as predictions - output\n",
    "        errors = predictions - output\n",
    "        gradient_sum_squares = 0 # initialize the gradient sum of squares\n",
    "        # while we haven't reached the tolerance yet, update each feature's weight\n",
    "        for i in range(len(weights)): # loop over each weight\n",
    "            # Recall that feature_matrix[:, i] is the feature column associated with weights[i]\n",
    "            # compute the derivative for weight[i]:\n",
    "            derivative = feature_derivative(errors, feature_matrix[:, i])\n",
    "            # add the squared value of the derivative to the gradient magnitude (for assessing convergence)\n",
    "            gradient_sum_squares += (derivative**2)\n",
    "            # subtract the step size times the derivative from the current weight\n",
    "            weights[i] -= (step_size * derivative)\n",
    "        # compute the square-root of the gradient sum of squares to get the gradient matnigude:\n",
    "        gradient_magnitude = sqrt(gradient_sum_squares)\n",
    "        #print('gradient magnitude is: ', str(gradient_magnitude))\n",
    "        if gradient_magnitude < tolerance:\n",
    "            converged = True\n",
    "    return(weights)"
   ]
  },
  {
   "cell_type": "code",
   "execution_count": 246,
   "metadata": {},
   "outputs": [
    {
     "name": "stdout",
     "output_type": "stream",
     "text": [
      "(17384, 2)\n"
     ]
    }
   ],
   "source": [
    "#train weights\n",
    "#Model 1\n",
    "simple_features = ['sqft_living']\n",
    "my_output = 'price'\n",
    "(strain_feature_matrix, train_output) = get_features_matrix(train_sales, simple_features, my_output)\n",
    "print(strain_feature_matrix.shape)\n",
    "initial_weights_t = np.array([-47000., 1.])\n",
    "t_step_size = 7e-12\n",
    "t_tolerance = 2.5e7"
   ]
  },
  {
   "cell_type": "markdown",
   "metadata": {},
   "source": [
    "Quiz Question:\n",
    "What is the value of the weight for sqft_living from your gradient descent predicting house prices (model 1)? Round your answer to 1 decimal place."
   ]
  },
  {
   "cell_type": "code",
   "execution_count": 247,
   "metadata": {},
   "outputs": [
    {
     "data": {
      "text/plain": [
       "array([-46999.88716555,    281.91211918])"
      ]
     },
     "execution_count": 247,
     "metadata": {},
     "output_type": "execute_result"
    }
   ],
   "source": [
    "#train weights gradient descent function\n",
    "simple_train_weights = regression_gradient_descent(strain_feature_matrix, train_output, initial_weights_t,t_step_size, t_tolerance)\n",
    "simple_train_weights"
   ]
  },
  {
   "cell_type": "code",
   "execution_count": 248,
   "metadata": {},
   "outputs": [
    {
     "data": {
      "text/plain": [
       "array([[   1, 1430],\n",
       "       [   1, 2950],\n",
       "       [   1, 1710],\n",
       "       ...,\n",
       "       [   1, 2520],\n",
       "       [   1, 2310],\n",
       "       [   1, 1020]], dtype=int64)"
      ]
     },
     "execution_count": 248,
     "metadata": {},
     "output_type": "execute_result"
    }
   ],
   "source": [
    "(test_simple_features_matrix, test_output)  = get_features_matrix(test_sales, simple_features, my_output)\n",
    "test_simple_features_matrix"
   ]
  },
  {
   "cell_type": "markdown",
   "metadata": {},
   "source": [
    "Quiz Question:\n",
    "What is the predicted price for the 1st house in the TEST data set for model 1 (round to nearest dollar)?"
   ]
  },
  {
   "cell_type": "code",
   "execution_count": 249,
   "metadata": {},
   "outputs": [
    {
     "data": {
      "text/plain": [
       "356134.4432550024"
      ]
     },
     "execution_count": 249,
     "metadata": {},
     "output_type": "execute_result"
    }
   ],
   "source": [
    "test_predictions = predict_outcome(test_simple_features_matrix, simple_train_weights)\n",
    "test_predictions[0]"
   ]
  },
  {
   "cell_type": "code",
   "execution_count": 250,
   "metadata": {},
   "outputs": [
    {
     "data": {
      "text/plain": [
       "275400044902128.3"
      ]
     },
     "execution_count": 250,
     "metadata": {},
     "output_type": "execute_result"
    }
   ],
   "source": [
    "test_residuals = test_output - test_predictions\n",
    "test_RSS = (test_residuals**2).sum()\n",
    "test_RSS"
   ]
  },
  {
   "cell_type": "code",
   "execution_count": 251,
   "metadata": {
    "scrolled": true
   },
   "outputs": [
    {
     "name": "stdout",
     "output_type": "stream",
     "text": [
      "(17384, 3)\n"
     ]
    }
   ],
   "source": [
    "#train gradient function multiple features\n",
    "#Model 2\n",
    "multiple_features = ['sqft_living', 'sqft_living15']\n",
    "my_output = 'price'\n",
    "(multiple_feature_matrix, multiple_output) = get_features_matrix(train_sales, multiple_features, my_output)\n",
    "print(multiple_feature_matrix.shape)\n",
    "initial_weights_m = np.array([-100000, 1., 1.])\n",
    "step_size_m = 4e-12\n",
    "tolerance_m = 1e9"
   ]
  },
  {
   "cell_type": "code",
   "execution_count": 252,
   "metadata": {},
   "outputs": [
    {
     "data": {
      "text/plain": [
       "array([-9.99999688e+04,  2.45072603e+02,  6.52795267e+01])"
      ]
     },
     "execution_count": 252,
     "metadata": {},
     "output_type": "execute_result"
    }
   ],
   "source": [
    "multiple_train_weights = regression_gradient_descent(multiple_feature_matrix, multiple_output, initial_weights_m,step_size_m, tolerance_m)\n",
    "multiple_train_weights"
   ]
  },
  {
   "cell_type": "code",
   "execution_count": 253,
   "metadata": {},
   "outputs": [
    {
     "data": {
      "text/plain": [
       "366651.4116294939"
      ]
     },
     "execution_count": 253,
     "metadata": {},
     "output_type": "execute_result"
    }
   ],
   "source": [
    "(test_multiple_feature_matrix, test_multiple_output) = get_features_matrix(test_sales,multiple_features, my_output)\n",
    "test_predictions_m = predict_outcome(test_multiple_feature_matrix,multiple_train_weights)\n",
    "test_predictions_m[0]"
   ]
  },
  {
   "cell_type": "markdown",
   "metadata": {},
   "source": [
    "Quiz Question: Question 4\n",
    "Which estimate was closer to the true price for the 1st house on the TEST data set, model 1 or model 2?"
   ]
  },
  {
   "cell_type": "code",
   "execution_count": 254,
   "metadata": {},
   "outputs": [
    {
     "name": "stdout",
     "output_type": "stream",
     "text": [
      "the model with predicted values closer to the true price is model_1\n"
     ]
    }
   ],
   "source": [
    "abs_difference_dict = {'model_1':abs(test_sales['price'][0]-test_predictions[0]), 'model_2':abs(test_sales['price'][0]-test_predictions_m[0])}\n",
    "minimum = min(abs_difference_dict.values())\n",
    "print('the model with predicted values closer to the true price is {}'.format(min(abs_difference_dict, key=abs_difference_dict.get)))"
   ]
  },
  {
   "cell_type": "code",
   "execution_count": null,
   "metadata": {},
   "outputs": [],
   "source": []
  },
  {
   "cell_type": "markdown",
   "metadata": {},
   "source": [
    "Quiz Question: Which model (1 or 2) has lowest RSS on all of the TEST data?"
   ]
  },
  {
   "cell_type": "code",
   "execution_count": 255,
   "metadata": {},
   "outputs": [
    {
     "name": "stdout",
     "output_type": "stream",
     "text": [
      "the model with lowest RSS model_2\n"
     ]
    }
   ],
   "source": [
    "test_residuals_m = test_output - test_predictions_m\n",
    "test_RSS_m = (test_residuals_m**2).sum()\n",
    "RSS = {'model_1':test_RSS, 'model_2':test_RSS_m}\n",
    "print('the model with lowest RSS {}'. format(min(RSS, key=lambda k: RSS[k])))"
   ]
  },
  {
   "cell_type": "markdown",
   "metadata": {},
   "source": [
    "Polynomial Features Matrix \n",
    "1. Splitting data into train, validation and test set to extract weights using train data, find the model complexity for the lowest RSS on validation set\n",
    "2. Defining a function that takes in a dataframe, independent variable, and maximal degree to return a features matrix, where columns are value of the independent variable raised to the powers upto maximal degree, it also adds an additional column for the intercept"
   ]
  },
  {
   "cell_type": "code",
   "execution_count": 256,
   "metadata": {},
   "outputs": [],
   "source": [
    "train_data = pd.read_csv('wk3_kc_house_train_data.csv')\n",
    "test_data = pd.read_csv('wk3_kc_house_test_data.csv')\n",
    "valid_data = pd.read_csv('wk3_kc_house_valid_data.csv')\n",
    "train_valid_shuffled = pd.read_csv('wk3_kc_house_train_valid_shuffled.csv')"
   ]
  },
  {
   "cell_type": "code",
   "execution_count": null,
   "metadata": {},
   "outputs": [],
   "source": []
  },
  {
   "cell_type": "code",
   "execution_count": 257,
   "metadata": {},
   "outputs": [],
   "source": [
    "def polynomial_dataframe(feature, degree):\n",
    "    polynomial_dataframe = pd.DataFrame()\n",
    "    polynomial_dataframe['power_1'] = feature\n",
    "    if degree > 1: \n",
    "        for power in range(2, degree+1):\n",
    "            name = 'power_' + str(power)\n",
    "            polynomial_dataframe[name] = feature**power \n",
    "    return(polynomial_dataframe)"
   ]
  },
  {
   "cell_type": "code",
   "execution_count": null,
   "metadata": {},
   "outputs": [],
   "source": []
  },
  {
   "cell_type": "code",
   "execution_count": 258,
   "metadata": {},
   "outputs": [
    {
     "data": {
      "text/html": [
       "<div>\n",
       "<style scoped>\n",
       "    .dataframe tbody tr th:only-of-type {\n",
       "        vertical-align: middle;\n",
       "    }\n",
       "\n",
       "    .dataframe tbody tr th {\n",
       "        vertical-align: top;\n",
       "    }\n",
       "\n",
       "    .dataframe thead th {\n",
       "        text-align: right;\n",
       "    }\n",
       "</style>\n",
       "<table border=\"1\" class=\"dataframe\">\n",
       "  <thead>\n",
       "    <tr style=\"text-align: right;\">\n",
       "      <th></th>\n",
       "      <th>power_1</th>\n",
       "      <th>power_2</th>\n",
       "      <th>power_3</th>\n",
       "      <th>power_4</th>\n",
       "      <th>power_5</th>\n",
       "      <th>power_6</th>\n",
       "      <th>power_7</th>\n",
       "      <th>power_8</th>\n",
       "      <th>power_9</th>\n",
       "      <th>power_10</th>\n",
       "      <th>power_11</th>\n",
       "      <th>power_12</th>\n",
       "      <th>power_13</th>\n",
       "      <th>power_14</th>\n",
       "      <th>power_15</th>\n",
       "      <th>price</th>\n",
       "    </tr>\n",
       "  </thead>\n",
       "  <tbody>\n",
       "    <tr>\n",
       "      <th>19452</th>\n",
       "      <td>290</td>\n",
       "      <td>84100</td>\n",
       "      <td>24389000</td>\n",
       "      <td>7072810000</td>\n",
       "      <td>2051114900000</td>\n",
       "      <td>594823321000000</td>\n",
       "      <td>172498763090000000</td>\n",
       "      <td>-5315590925028654848</td>\n",
       "      <td>8005133933292429824</td>\n",
       "      <td>-2800912632598854656</td>\n",
       "      <td>-607924210447579136</td>\n",
       "      <td>8169419707297566720</td>\n",
       "      <td>7948473681471741952</td>\n",
       "      <td>-785641586888785920</td>\n",
       "      <td>-6475131313233297408</td>\n",
       "      <td>142000.0</td>\n",
       "    </tr>\n",
       "    <tr>\n",
       "      <th>15381</th>\n",
       "      <td>370</td>\n",
       "      <td>136900</td>\n",
       "      <td>50653000</td>\n",
       "      <td>18741610000</td>\n",
       "      <td>6934395700000</td>\n",
       "      <td>2565726409000000</td>\n",
       "      <td>949318771330000000</td>\n",
       "      <td>759807991618519296</td>\n",
       "      <td>4427795793208865280</td>\n",
       "      <td>-3475779072869940224</td>\n",
       "      <td>5233828197790730240</td>\n",
       "      <td>-391694556932730880</td>\n",
       "      <td>2646966524565987328</td>\n",
       "      <td>1700178182809075712</td>\n",
       "      <td>1876629133233258496</td>\n",
       "      <td>276000.0</td>\n",
       "    </tr>\n",
       "    <tr>\n",
       "      <th>860</th>\n",
       "      <td>380</td>\n",
       "      <td>144400</td>\n",
       "      <td>54872000</td>\n",
       "      <td>20851360000</td>\n",
       "      <td>7923516800000</td>\n",
       "      <td>3010936384000000</td>\n",
       "      <td>1144155825920000000</td>\n",
       "      <td>-7942643919429238784</td>\n",
       "      <td>7061338705255727104</td>\n",
       "      <td>8530817309291315200</td>\n",
       "      <td>-4916379442181308416</td>\n",
       "      <td>-5103036584232484864</td>\n",
       "      <td>-2245774268841328640</td>\n",
       "      <td>-4843994769065508864</td>\n",
       "      <td>3956395126061793280</td>\n",
       "      <td>245000.0</td>\n",
       "    </tr>\n",
       "    <tr>\n",
       "      <th>18379</th>\n",
       "      <td>384</td>\n",
       "      <td>147456</td>\n",
       "      <td>56623104</td>\n",
       "      <td>21743271936</td>\n",
       "      <td>8349416423424</td>\n",
       "      <td>3206175906594816</td>\n",
       "      <td>1231171548132409344</td>\n",
       "      <td>-6845471433603153920</td>\n",
       "      <td>-9223372036854775808</td>\n",
       "      <td>0</td>\n",
       "      <td>0</td>\n",
       "      <td>0</td>\n",
       "      <td>0</td>\n",
       "      <td>0</td>\n",
       "      <td>0</td>\n",
       "      <td>265000.0</td>\n",
       "    </tr>\n",
       "    <tr>\n",
       "      <th>4868</th>\n",
       "      <td>390</td>\n",
       "      <td>152100</td>\n",
       "      <td>59319000</td>\n",
       "      <td>23134410000</td>\n",
       "      <td>9022419900000</td>\n",
       "      <td>3518743761000000</td>\n",
       "      <td>1372310066790000000</td>\n",
       "      <td>245347910523003136</td>\n",
       "      <td>3451964735423464960</td>\n",
       "      <td>-346070565645933568</td>\n",
       "      <td>-5840312085947230208</td>\n",
       "      <td>-8772192453144932352</td>\n",
       "      <td>-8507403090256568320</td>\n",
       "      <td>2526728067657646080</td>\n",
       "      <td>7746510479875735552</td>\n",
       "      <td>228000.0</td>\n",
       "    </tr>\n",
       "    <tr>\n",
       "      <th>...</th>\n",
       "      <td>...</td>\n",
       "      <td>...</td>\n",
       "      <td>...</td>\n",
       "      <td>...</td>\n",
       "      <td>...</td>\n",
       "      <td>...</td>\n",
       "      <td>...</td>\n",
       "      <td>...</td>\n",
       "      <td>...</td>\n",
       "      <td>...</td>\n",
       "      <td>...</td>\n",
       "      <td>...</td>\n",
       "      <td>...</td>\n",
       "      <td>...</td>\n",
       "      <td>...</td>\n",
       "      <td>...</td>\n",
       "    </tr>\n",
       "    <tr>\n",
       "      <th>8092</th>\n",
       "      <td>9640</td>\n",
       "      <td>92929600</td>\n",
       "      <td>895841344000</td>\n",
       "      <td>8635910556160000</td>\n",
       "      <td>-8983542607165358080</td>\n",
       "      <td>6112692992292945920</td>\n",
       "      <td>7459874275690807296</td>\n",
       "      <td>7779618339550134272</td>\n",
       "      <td>-8940610439742488576</td>\n",
       "      <td>-4296326746564722688</td>\n",
       "      <td>-3649391405983334400</td>\n",
       "      <td>-2192205115228684288</td>\n",
       "      <td>7111397666629615616</td>\n",
       "      <td>5772528404800733184</td>\n",
       "      <td>-6653048102649331712</td>\n",
       "      <td>4668000.0</td>\n",
       "    </tr>\n",
       "    <tr>\n",
       "      <th>9254</th>\n",
       "      <td>9890</td>\n",
       "      <td>97812100</td>\n",
       "      <td>967361669000</td>\n",
       "      <td>9567206906410000</td>\n",
       "      <td>2385955935847141920</td>\n",
       "      <td>3718535253717071936</td>\n",
       "      <td>-6494023715004475264</td>\n",
       "      <td>5668323262398365952</td>\n",
       "      <td>61825116511904256</td>\n",
       "      <td>2707847870317888512</td>\n",
       "      <td>-4056957582351562752</td>\n",
       "      <td>-1642129138680852480</td>\n",
       "      <td>-7522396689225605120</td>\n",
       "      <td>-784407170612969472</td>\n",
       "      <td>8292337669453152256</td>\n",
       "      <td>6885000.0</td>\n",
       "    </tr>\n",
       "    <tr>\n",
       "      <th>3914</th>\n",
       "      <td>10040</td>\n",
       "      <td>100801600</td>\n",
       "      <td>1012048064000</td>\n",
       "      <td>10160962562560000</td>\n",
       "      <td>-8664400314154909696</td>\n",
       "      <td>4265897498952073216</td>\n",
       "      <td>-3728849674763763712</td>\n",
       "      <td>-9207009071507439616</td>\n",
       "      <td>-1736524576130596864</td>\n",
       "      <td>-2533594695666237440</td>\n",
       "      <td>769333156447780864</td>\n",
       "      <td>-5080876148582252544</td>\n",
       "      <td>-6749167958905323520</td>\n",
       "      <td>-6755324674265055232</td>\n",
       "      <td>5218229408866762752</td>\n",
       "      <td>7062500.0</td>\n",
       "    </tr>\n",
       "    <tr>\n",
       "      <th>7252</th>\n",
       "      <td>12050</td>\n",
       "      <td>145202500</td>\n",
       "      <td>1749690125000</td>\n",
       "      <td>21083766006250000</td>\n",
       "      <td>-4195036656621222624</td>\n",
       "      <td>-6112950321561191360</td>\n",
       "      <td>-3202288490116285312</td>\n",
       "      <td>3012296299143971072</td>\n",
       "      <td>-5021932375546162688</td>\n",
       "      <td>-8964563563931089920</td>\n",
       "      <td>1142350273500727296</td>\n",
       "      <td>4049716696438411264</td>\n",
       "      <td>7448117121091706880</td>\n",
       "      <td>6401390558099292160</td>\n",
       "      <td>-7527491156874330112</td>\n",
       "      <td>7700000.0</td>\n",
       "    </tr>\n",
       "    <tr>\n",
       "      <th>12777</th>\n",
       "      <td>13540</td>\n",
       "      <td>183331600</td>\n",
       "      <td>2482309864000</td>\n",
       "      <td>33610475558560000</td>\n",
       "      <td>-6082762779836390400</td>\n",
       "      <td>4104250128421949440</td>\n",
       "      <td>-8493155253683601408</td>\n",
       "      <td>-319579370618290176</td>\n",
       "      <td>7880179150095646720</td>\n",
       "      <td>1657969959010041856</td>\n",
       "      <td>-774292708557586432</td>\n",
       "      <td>-6172640002694971392</td>\n",
       "      <td>4651761488065724416</td>\n",
       "      <td>7666280765499375616</td>\n",
       "      <td>1612662097898897408</td>\n",
       "      <td>2280000.0</td>\n",
       "    </tr>\n",
       "  </tbody>\n",
       "</table>\n",
       "<p>21613 rows × 16 columns</p>\n",
       "</div>"
      ],
      "text/plain": [
       "       power_1    power_2        power_3            power_4  \\\n",
       "19452      290      84100       24389000         7072810000   \n",
       "15381      370     136900       50653000        18741610000   \n",
       "860        380     144400       54872000        20851360000   \n",
       "18379      384     147456       56623104        21743271936   \n",
       "4868       390     152100       59319000        23134410000   \n",
       "...        ...        ...            ...                ...   \n",
       "8092      9640   92929600   895841344000   8635910556160000   \n",
       "9254      9890   97812100   967361669000   9567206906410000   \n",
       "3914     10040  100801600  1012048064000  10160962562560000   \n",
       "7252     12050  145202500  1749690125000  21083766006250000   \n",
       "12777    13540  183331600  2482309864000  33610475558560000   \n",
       "\n",
       "                   power_5              power_6              power_7  \\\n",
       "19452        2051114900000      594823321000000   172498763090000000   \n",
       "15381        6934395700000     2565726409000000   949318771330000000   \n",
       "860          7923516800000     3010936384000000  1144155825920000000   \n",
       "18379        8349416423424     3206175906594816  1231171548132409344   \n",
       "4868         9022419900000     3518743761000000  1372310066790000000   \n",
       "...                    ...                  ...                  ...   \n",
       "8092  -8983542607165358080  6112692992292945920  7459874275690807296   \n",
       "9254   2385955935847141920  3718535253717071936 -6494023715004475264   \n",
       "3914  -8664400314154909696  4265897498952073216 -3728849674763763712   \n",
       "7252  -4195036656621222624 -6112950321561191360 -3202288490116285312   \n",
       "12777 -6082762779836390400  4104250128421949440 -8493155253683601408   \n",
       "\n",
       "                   power_8              power_9             power_10  \\\n",
       "19452 -5315590925028654848  8005133933292429824 -2800912632598854656   \n",
       "15381   759807991618519296  4427795793208865280 -3475779072869940224   \n",
       "860   -7942643919429238784  7061338705255727104  8530817309291315200   \n",
       "18379 -6845471433603153920 -9223372036854775808                    0   \n",
       "4868    245347910523003136  3451964735423464960  -346070565645933568   \n",
       "...                    ...                  ...                  ...   \n",
       "8092   7779618339550134272 -8940610439742488576 -4296326746564722688   \n",
       "9254   5668323262398365952    61825116511904256  2707847870317888512   \n",
       "3914  -9207009071507439616 -1736524576130596864 -2533594695666237440   \n",
       "7252   3012296299143971072 -5021932375546162688 -8964563563931089920   \n",
       "12777  -319579370618290176  7880179150095646720  1657969959010041856   \n",
       "\n",
       "                  power_11             power_12             power_13  \\\n",
       "19452  -607924210447579136  8169419707297566720  7948473681471741952   \n",
       "15381  5233828197790730240  -391694556932730880  2646966524565987328   \n",
       "860   -4916379442181308416 -5103036584232484864 -2245774268841328640   \n",
       "18379                    0                    0                    0   \n",
       "4868  -5840312085947230208 -8772192453144932352 -8507403090256568320   \n",
       "...                    ...                  ...                  ...   \n",
       "8092  -3649391405983334400 -2192205115228684288  7111397666629615616   \n",
       "9254  -4056957582351562752 -1642129138680852480 -7522396689225605120   \n",
       "3914    769333156447780864 -5080876148582252544 -6749167958905323520   \n",
       "7252   1142350273500727296  4049716696438411264  7448117121091706880   \n",
       "12777  -774292708557586432 -6172640002694971392  4651761488065724416   \n",
       "\n",
       "                  power_14             power_15      price  \n",
       "19452  -785641586888785920 -6475131313233297408   142000.0  \n",
       "15381  1700178182809075712  1876629133233258496   276000.0  \n",
       "860   -4843994769065508864  3956395126061793280   245000.0  \n",
       "18379                    0                    0   265000.0  \n",
       "4868   2526728067657646080  7746510479875735552   228000.0  \n",
       "...                    ...                  ...        ...  \n",
       "8092   5772528404800733184 -6653048102649331712  4668000.0  \n",
       "9254   -784407170612969472  8292337669453152256  6885000.0  \n",
       "3914  -6755324674265055232  5218229408866762752  7062500.0  \n",
       "7252   6401390558099292160 -7527491156874330112  7700000.0  \n",
       "12777  7666280765499375616  1612662097898897408  2280000.0  \n",
       "\n",
       "[21613 rows x 16 columns]"
      ]
     },
     "execution_count": 258,
     "metadata": {},
     "output_type": "execute_result"
    }
   ],
   "source": [
    "sqft_living_poly = polynomial_dataframe(sales_data['sqft_living'],15)\n",
    "sqft_living_poly['price'] = sales_data['price']\n",
    "sqft_living_poly.sort_values('power_2')"
   ]
  },
  {
   "cell_type": "markdown",
   "metadata": {},
   "source": [
    "Model Complexity: Linear polynomial function"
   ]
  },
  {
   "cell_type": "code",
   "execution_count": 259,
   "metadata": {},
   "outputs": [],
   "source": [
    "model_1 = skllm.LinearRegression()"
   ]
  },
  {
   "cell_type": "code",
   "execution_count": 260,
   "metadata": {},
   "outputs": [],
   "source": [
    "sqft_living_poly1 = polynomial_dataframe(sales_data['sqft_living'],1)\n",
    "sqft_living_poly1_features = sqft_living_poly1.columns\n",
    "sqft_living_poly1['price'] = sales_data['price']\n",
    "x = np.array(sqft_living_poly1[sqft_living_poly1_features]).reshape(-1,1)\n",
    "Y = np.array(sqft_living_poly1['price'])"
   ]
  },
  {
   "cell_type": "code",
   "execution_count": 261,
   "metadata": {},
   "outputs": [
    {
     "data": {
      "text/plain": [
       "Index(['power_1', 'price'], dtype='object')"
      ]
     },
     "execution_count": 261,
     "metadata": {},
     "output_type": "execute_result"
    }
   ],
   "source": [
    "sqft_living_poly1_features = sqft_living_poly1.columns\n",
    "sqft_living_poly1_features"
   ]
  },
  {
   "cell_type": "code",
   "execution_count": 262,
   "metadata": {},
   "outputs": [
    {
     "data": {
      "text/plain": [
       "LinearRegression()"
      ]
     },
     "execution_count": 262,
     "metadata": {},
     "output_type": "execute_result"
    }
   ],
   "source": [
    "model_1.fit(x,Y)"
   ]
  },
  {
   "cell_type": "code",
   "execution_count": 263,
   "metadata": {},
   "outputs": [
    {
     "name": "stdout",
     "output_type": "stream",
     "text": [
      "intercept: -43580.74309447361\n",
      "slope: [280.6235679]\n",
      "r_squared: 0.4928532179037931\n"
     ]
    }
   ],
   "source": [
    "print('intercept:', model_1.intercept_)\n",
    "print('slope:', model_1.coef_) \n",
    "print('r_squared:', model_1.score(x,Y))\n"
   ]
  },
  {
   "cell_type": "code",
   "execution_count": 264,
   "metadata": {},
   "outputs": [
    {
     "data": {
      "text/plain": [
       "[<matplotlib.lines.Line2D at 0x2a01a0541f0>,\n",
       " <matplotlib.lines.Line2D at 0x2a01a054760>]"
      ]
     },
     "execution_count": 264,
     "metadata": {},
     "output_type": "execute_result"
    },
    {
     "data": {
      "image/png": "[encoded data removed]",
      "text/plain": [
       "<Figure size 432x288 with 1 Axes>"
      ]
     },
     "metadata": {
      "needs_background": "light"
     },
     "output_type": "display_data"
    }
   ],
   "source": [
    "plt.plot(sqft_living_poly1['power_1'], sqft_living_poly1['price'], '.',sqft_living_poly1['power_1'], model_1.predict(x), '.')"
   ]
  },
  {
   "cell_type": "markdown",
   "metadata": {},
   "source": [
    "Model Complexity: Quadratic polynomial function"
   ]
  },
  {
   "cell_type": "code",
   "execution_count": 265,
   "metadata": {},
   "outputs": [],
   "source": [
    "sqft_living_poly2 = polynomial_dataframe(sales_data['sqft_living'],2)\n",
    "sqft_living_poly2_features = sqft_living_poly2.columns\n",
    "sqft_living_poly2['price'] = sales_data['price']\n",
    "x2 = np.array(sqft_living_poly2[sqft_living_poly2_features]).reshape(2,-2)\n",
    "Y2 = np.array(sqft_living_poly2['price'])"
   ]
  },
  {
   "cell_type": "code",
   "execution_count": 266,
   "metadata": {},
   "outputs": [
    {
     "data": {
      "text/plain": [
       "((21613, 2), (21613,))"
      ]
     },
     "execution_count": 266,
     "metadata": {},
     "output_type": "execute_result"
    }
   ],
   "source": [
    "x2 = np.array(sqft_living_poly2[sqft_living_poly2_features])\n",
    "x2.shape, Y2.shape"
   ]
  },
  {
   "cell_type": "code",
   "execution_count": 267,
   "metadata": {},
   "outputs": [
    {
     "data": {
      "text/plain": [
       "LinearRegression()"
      ]
     },
     "execution_count": 267,
     "metadata": {},
     "output_type": "execute_result"
    }
   ],
   "source": [
    "model_2 = skllm.LinearRegression()\n",
    "model_2.fit(x2,Y2)"
   ]
  },
  {
   "cell_type": "code",
   "execution_count": 268,
   "metadata": {},
   "outputs": [
    {
     "name": "stdout",
     "output_type": "stream",
     "text": [
      "intercept: 199222.27930548543\n",
      "slope: [6.79940947e+01 3.85812609e-02]\n",
      "r_squared: 0.5327430940591443\n"
     ]
    },
    {
     "data": {
      "text/plain": [
       "array([333175.85876368, 628792.4730121 , 274452.56182321, ...,\n",
       "       308716.19976406, 406780.85880199, 308716.19976406])"
      ]
     },
     "execution_count": 268,
     "metadata": {},
     "output_type": "execute_result"
    }
   ],
   "source": [
    "print('intercept:', model_2.intercept_)\n",
    "print('slope:', model_2.coef_) \n",
    "print('r_squared:', model_2.score(x2,Y2))\n",
    "model_2.predict(x2)"
   ]
  },
  {
   "cell_type": "code",
   "execution_count": 269,
   "metadata": {
    "scrolled": true
   },
   "outputs": [
    {
     "data": {
      "text/plain": [
       "[<matplotlib.lines.Line2D at 0x2a0189088e0>,\n",
       " <matplotlib.lines.Line2D at 0x2a018908940>]"
      ]
     },
     "execution_count": 269,
     "metadata": {},
     "output_type": "execute_result"
    },
    {
     "data": {
      "image/png": "[encoded data removed]",
      "text/plain": [
       "<Figure size 432x288 with 1 Axes>"
      ]
     },
     "metadata": {
      "needs_background": "light"
     },
     "output_type": "display_data"
    }
   ],
   "source": [
    "plt.plot(sqft_living_poly2['power_1'], sqft_living_poly2['price'],'.',sqft_living_poly2['power_1'], model_2.predict(x2), '.')"
   ]
  },
  {
   "cell_type": "markdown",
   "metadata": {},
   "source": [
    "Model Complexity: Cubic polynomial function"
   ]
  },
  {
   "cell_type": "code",
   "execution_count": 270,
   "metadata": {},
   "outputs": [
    {
     "name": "stdout",
     "output_type": "stream",
     "text": [
      "intercept: 336819.7482229535\n",
      "slope: [-9.01819864e+01  8.70465089e-02 -3.84055260e-06]\n",
      "r_squared: 0.5390045510503199\n"
     ]
    },
    {
     "data": {
      "text/plain": [
       "[<matplotlib.lines.Line2D at 0x2a01888cdf0>,\n",
       " <matplotlib.lines.Line2D at 0x2a01888ce50>]"
      ]
     },
     "execution_count": 270,
     "metadata": {},
     "output_type": "execute_result"
    },
    {
     "data": {
      "image/png": "[encoded data removed]",
      "text/plain": [
       "<Figure size 432x288 with 1 Axes>"
      ]
     },
     "metadata": {
      "needs_background": "light"
     },
     "output_type": "display_data"
    }
   ],
   "source": [
    "sqft_living_poly3 = polynomial_dataframe(sales_data['sqft_living'],3)\n",
    "sqft_living_poly3_features = sqft_living_poly3.columns\n",
    "sqft_living_poly3['price'] = sales_data['price']\n",
    "x3 = np.array(sqft_living_poly3[sqft_living_poly3_features])\n",
    "Y3 = np.array(sqft_living_poly3['price'])\n",
    "model_3 = skllm.LinearRegression()\n",
    "model_3.fit(x3,Y3)\n",
    "print('intercept:', model_3.intercept_)\n",
    "print('slope:', model_3.coef_) \n",
    "print('r_squared:', model_3.score(x3,Y3))\n",
    "plt.plot(sqft_living_poly3['power_1'], sqft_living_poly3['price'], '.',sqft_living_poly3['power_1'], model_3.predict(x3), '.')"
   ]
  },
  {
   "cell_type": "markdown",
   "metadata": {},
   "source": [
    "Model Complexity: 15th degree polynomial function"
   ]
  },
  {
   "cell_type": "code",
   "execution_count": 271,
   "metadata": {},
   "outputs": [
    {
     "name": "stdout",
     "output_type": "stream",
     "text": [
      "intercept: 279936.46914722753\n",
      "slope: [ 1.71283726e-05  4.21879886e-02  4.60020311e-06 -4.52422175e-10\n",
      " -2.28236925e-14 -2.29614568e-16 -5.25167922e-16  3.49514823e-16\n",
      " -2.02568178e-16 -2.65721376e-16  1.00194268e-16  7.24085312e-16\n",
      "  4.24115238e-16 -4.03774328e-16  4.42002926e-17]\n",
      "r_squared: 0.5421023116183661\n"
     ]
    },
    {
     "data": {
      "text/plain": [
       "[<matplotlib.lines.Line2D at 0x2a012c1d3a0>,\n",
       " <matplotlib.lines.Line2D at 0x2a012c1d400>]"
      ]
     },
     "execution_count": 271,
     "metadata": {},
     "output_type": "execute_result"
    },
    {
     "data": {
      "image/png": "[encoded data removed]",
      "text/plain": [
       "<Figure size 432x288 with 1 Axes>"
      ]
     },
     "metadata": {
      "needs_background": "light"
     },
     "output_type": "display_data"
    }
   ],
   "source": [
    "sqft_living_poly15 = polynomial_dataframe(sales_data['sqft_living'],15)\n",
    "sqft_living_poly15_features = sqft_living_poly15.columns\n",
    "sqft_living_poly15['price'] = sales_data['price']\n",
    "x15 = np.array(sqft_living_poly15[sqft_living_poly15_features])\n",
    "Y15 = np.array(sqft_living_poly['price'])\n",
    "model_15 = skllm.LinearRegression()\n",
    "model_15.fit(x15,Y15)\n",
    "print('intercept:', model_15.intercept_)\n",
    "print('slope:', model_15.coef_) \n",
    "print('r_squared:', model_15.score(x15,Y15))\n",
    "plt.plot(sqft_living_poly15['power_1'], sqft_living_poly15['price'], '.',sqft_living_poly15['power_1'], model_15.predict(x15), '.')"
   ]
  },
  {
   "cell_type": "markdown",
   "metadata": {},
   "source": [
    "Split the sales data into four subsets of roughly equal size. Then estimate a 15th degree polynomial model on all four subsets of the data."
   ]
  },
  {
   "cell_type": "code",
   "execution_count": 272,
   "metadata": {},
   "outputs": [],
   "source": [
    "set_1 = pd.read_csv('wk3_kc_house_set_1_data.csv')\n",
    "set_2 = pd.read_csv('wk3_kc_house_set_2_data.csv')\n",
    "set_3 = pd.read_csv('wk3_kc_house_set_3_data.csv')\n",
    "set_4 = pd.read_csv('wk3_kc_house_set_4_data.csv')"
   ]
  },
  {
   "cell_type": "code",
   "execution_count": 273,
   "metadata": {},
   "outputs": [
    {
     "data": {
      "text/plain": [
       "[<matplotlib.lines.Line2D at 0x2a012c618b0>]"
      ]
     },
     "execution_count": 273,
     "metadata": {},
     "output_type": "execute_result"
    },
    {
     "data": {
      "image/png": "[encoded data removed]",
      "text/plain": [
       "<Figure size 432x288 with 1 Axes>"
      ]
     },
     "metadata": {
      "needs_background": "light"
     },
     "output_type": "display_data"
    }
   ],
   "source": [
    "set1_sqft_living_poly = polynomial_dataframe(set_1['sqft_living'],15)\n",
    "set1_sqft_living_poly_features = set1_sqft_living_poly.columns\n",
    "set1_sqft_living_poly['price'] = set_1['price']\n",
    "set1_x15 = np.array(set1_sqft_living_poly[set1_sqft_living_poly_features])\n",
    "set1_Y15 = np.array(set1_sqft_living_poly['price'])\n",
    "set1_model_15 = skllm.LinearRegression()\n",
    "set1_model_15.fit(set1_x15,set1_Y15)\n",
    "#print('intercept:', set1_model_15.intercept_)\n",
    "#print('slope for power_15:', set1_model_15.coef_) \n",
    "#print('r_squared:', set1_model_15.score(set1_x15,set1_Y15))\n",
    "predictions_set_1 = set1_model_15.predict(set1_x15)\n",
    "plt.plot(set1_sqft_living_poly['power_1'], set1_sqft_living_poly['price'], '.')\n",
    "plt.plot(set1_sqft_living_poly['power_1'], predictions_set_1 , '-')"
   ]
  },
  {
   "cell_type": "code",
   "execution_count": null,
   "metadata": {},
   "outputs": [],
   "source": []
  },
  {
   "cell_type": "code",
   "execution_count": 274,
   "metadata": {},
   "outputs": [
    {
     "data": {
      "text/plain": [
       "[<matplotlib.lines.Line2D at 0x2a012cd6e80>]"
      ]
     },
     "execution_count": 274,
     "metadata": {},
     "output_type": "execute_result"
    },
    {
     "data": {
      "image/png": "[encoded data removed]",
      "text/plain": [
       "<Figure size 432x288 with 1 Axes>"
      ]
     },
     "metadata": {
      "needs_background": "light"
     },
     "output_type": "display_data"
    }
   ],
   "source": [
    "set2_sqft_living_poly = polynomial_dataframe(set_2['sqft_living'],15)\n",
    "set1_sqft_living_poly_features = set2_sqft_living_poly.columns\n",
    "set2_sqft_living_poly['price'] = set_2['price']\n",
    "\n",
    "set2_x15 = np.array(set2_sqft_living_poly[set1_sqft_living_poly_features])\n",
    "set2_Y15 = np.array(set2_sqft_living_poly['price'])\n",
    "set2_model_15 = skllm.LinearRegression()\n",
    "set2_model_15.fit(set2_x15,set2_Y15)\n",
    "#print('intercept:', set2_model_15.intercept_)\n",
    "#print('slope for power_15:', set2_model_15.coef_) \n",
    "#print('r_squared:', set2_model_15.score(set2_x15,set2_Y15))\n",
    "plt.plot(set2_sqft_living_poly['power_1'], set2_sqft_living_poly['price'], '.')\n",
    "plt.plot(set2_sqft_living_poly['power_1'], set2_model_15.predict(set2_x15), '-')"
   ]
  },
  {
   "cell_type": "code",
   "execution_count": 275,
   "metadata": {},
   "outputs": [
    {
     "name": "stdout",
     "output_type": "stream",
     "text": [
      "intercept: 251836.97146979917\n",
      "slope for power_15: [ 3.06040268e-05  6.77524111e-02 -5.35887341e-06  4.62209829e-10\n",
      " -1.31471080e-14 -1.42358238e-16 -3.60833621e-16  5.65503096e-16\n",
      "  4.35861851e-16  5.28464990e-16 -2.21575141e-16  1.13152437e-15\n",
      "  6.07220706e-16  3.29339151e-16 -2.59168381e-16]\n",
      "r_squared: 0.5663909028752889\n"
     ]
    },
    {
     "data": {
      "text/plain": [
       "[<matplotlib.lines.Line2D at 0x2a01304f9a0>]"
      ]
     },
     "execution_count": 275,
     "metadata": {},
     "output_type": "execute_result"
    },
    {
     "data": {
      "image/png": "[encoded data removed]",
      "text/plain": [
       "<Figure size 432x288 with 1 Axes>"
      ]
     },
     "metadata": {
      "needs_background": "light"
     },
     "output_type": "display_data"
    }
   ],
   "source": [
    "set3_sqft_living_poly = polynomial_dataframe(set_3['sqft_living'],15)\n",
    "set3_sqft_living_poly_features = set3_sqft_living_poly.columns\n",
    "set3_sqft_living_poly['price'] = set_3['price']\n",
    "set3_x15 = np.array(set3_sqft_living_poly[set3_sqft_living_poly_features])\n",
    "set3_Y15 = np.array(set3_sqft_living_poly['price'])\n",
    "set3_model_15 = skllm.LinearRegression()\n",
    "set3_model_15.fit(set3_x15,set3_Y15)\n",
    "print('intercept:', set3_model_15.intercept_)\n",
    "print('slope for power_15:', set3_model_15.coef_) \n",
    "print('r_squared:', set3_model_15.score(set3_x15,set3_Y15))\n",
    "plt.plot(set3_sqft_living_poly['power_1'], set3_sqft_living_poly['price'], '.')\n",
    "plt.plot(set3_sqft_living_poly['power_1'], set3_model_15.predict(set3_x15), '-')"
   ]
  },
  {
   "cell_type": "code",
   "execution_count": 276,
   "metadata": {},
   "outputs": [
    {
     "name": "stdout",
     "output_type": "stream",
     "text": [
      "intercept: 269783.16780263773\n",
      "slope for power_15: [ 2.92540496e-05  5.47251806e-02 -1.42373522e-06  7.25740599e-11\n",
      "  3.46682562e-14 -1.24271725e-15 -4.01277794e-16  8.93804740e-16\n",
      " -4.96004837e-16 -5.39429373e-16  2.61186423e-16  3.95151655e-16\n",
      "  2.88213711e-16 -1.03711508e-15 -3.22110900e-16]\n",
      "r_squared: 0.49305028117422933\n"
     ]
    },
    {
     "data": {
      "text/plain": [
       "[<matplotlib.lines.Line2D at 0x2a0130b4040>]"
      ]
     },
     "execution_count": 276,
     "metadata": {},
     "output_type": "execute_result"
    },
    {
     "data": {
      "image/png": "[encoded data removed]",
      "text/plain": [
       "<Figure size 432x288 with 1 Axes>"
      ]
     },
     "metadata": {
      "needs_background": "light"
     },
     "output_type": "display_data"
    }
   ],
   "source": [
    "set4_sqft_living_poly = polynomial_dataframe(set_4['sqft_living'],15)\n",
    "set4_sqft_living_poly_features = set4_sqft_living_poly.columns\n",
    "set4_sqft_living_poly['price'] = set_4['price']\n",
    "set4_x15 = np.array(set4_sqft_living_poly[set4_sqft_living_poly_features])\n",
    "set4_Y15 = np.array(set4_sqft_living_poly['price'])\n",
    "set4_model_15 = skllm.LinearRegression()\n",
    "set4_model_15.fit(set4_x15,set4_Y15)\n",
    "print('intercept:', set4_model_15.intercept_)\n",
    "print('slope for power_15:', set4_model_15.coef_) \n",
    "print('r_squared:', set4_model_15.score(set4_x15,set4_Y15))\n",
    "plt.plot(set4_sqft_living_poly['power_1'], set4_sqft_living_poly['price'], '.')\n",
    "plt.plot(set4_sqft_living_poly['power_1'], set4_model_15.predict(set4_x15), '-')"
   ]
  },
  {
   "cell_type": "code",
   "execution_count": 277,
   "metadata": {},
   "outputs": [],
   "source": [
    "def RSS(model, x_values, y_values):\n",
    "    residuals = model.predict(x_values) - y_values\n",
    "    RSS = (residuals**2).sum()\n",
    "    return RSS"
   ]
  },
  {
   "cell_type": "code",
   "execution_count": 278,
   "metadata": {},
   "outputs": [
    {
     "name": "stdout",
     "output_type": "stream",
     "text": [
      "the set with lowest RSS set_2\n"
     ]
    }
   ],
   "source": [
    "Model_keys = ['set_1', 'set_2', 'set_3', 'set_4']\n",
    "coefficients = [set1_model_15.coef_[14], set2_model_15.coef_[14],set3_model_15.coef_[14], set4_model_15.coef_[14]]\n",
    "RSS_list = [RSS(set1_model_15, set1_x15, set1_Y15), RSS(set2_model_15, set2_x15, set2_Y15),RSS(set3_model_15, set3_x15, set3_Y15), RSS(set4_model_15, set4_x15, set4_Y15)]\n",
    "RSS_dict = dict(zip(Model_keys, RSS_list))\n",
    "power_15 = dict(zip(Model_keys, coefficients))\n",
    "print('the set with lowest RSS {}'.format(min(RSS_dict, key=lambda k: RSS_dict[k])))"
   ]
  },
  {
   "cell_type": "markdown",
   "metadata": {},
   "source": [
    "Quiz Question: \n",
    "Is the sign (positive or negative) for power_15 the same in all four models?"
   ]
  },
  {
   "cell_type": "code",
   "execution_count": 279,
   "metadata": {},
   "outputs": [
    {
     "data": {
      "text/plain": [
       "{'set_1': -3.8020150372957947e-16,\n",
       " 'set_2': 1.3401533436541994e-15,\n",
       " 'set_3': -2.591683811604783e-16,\n",
       " 'set_4': -3.2211089991161973e-16}"
      ]
     },
     "execution_count": 279,
     "metadata": {},
     "output_type": "execute_result"
    }
   ],
   "source": [
    "power_15"
   ]
  },
  {
   "cell_type": "markdown",
   "metadata": {},
   "source": [
    "Quiz Question: The plotted fitted lines all look the same in all four plots? (True/False)"
   ]
  },
  {
   "cell_type": "code",
   "execution_count": 280,
   "metadata": {},
   "outputs": [
    {
     "data": {
      "image/png": "[encoded data removed]",
      "text/plain": [
       "<Figure size 432x288 with 4 Axes>"
      ]
     },
     "metadata": {
      "needs_background": "light"
     },
     "output_type": "display_data"
    }
   ],
   "source": [
    "fig, axs = plt.subplots(2, 2)\n",
    "axs[0,0].plot(set1_sqft_living_poly['power_1'], set1_sqft_living_poly['price'], '.',set1_sqft_living_poly['power_1'], predictions_set_1 , '-')\n",
    "axs[0, 0].set_title(\"set_1\")\n",
    "axs[1,0].plot(set2_sqft_living_poly['power_1'], set2_sqft_living_poly['price'], '.',set2_sqft_living_poly['power_1'], set2_model_15.predict(set2_x15), '-')\n",
    "axs[1, 0].set_title(\"set_2\")\n",
    "axs[0,1].plot(set3_sqft_living_poly['power_1'], set3_sqft_living_poly['price'], '.',set3_sqft_living_poly['power_1'], set3_model_15.predict(set3_x15), '-')\n",
    "axs[0, 1].set_title(\"set_3\")\n",
    "axs[1,1].plot(set4_sqft_living_poly['power_1'], set4_sqft_living_poly['price'], '.',set4_sqft_living_poly['power_1'], set4_model_15.predict(set4_x15), '-')\n",
    "axs[1, 1].set_title(\"set_4\")\n",
    "fig.tight_layout()"
   ]
  },
  {
   "cell_type": "code",
   "execution_count": 281,
   "metadata": {},
   "outputs": [],
   "source": [
    "def poly_regression(dataframe1, dataframe2, independent, dependent, degree):\n",
    "    poly_frame1 = polynomial_dataframe(dataframe1[independent], degree)\n",
    "    poly_frame1[dependent] = dataframe1[dependent]\n",
    "    poly_frame2 = polynomial_dataframe(dataframe2[independent], degree)\n",
    "    poly_frame2[dependent] = dataframe2[dependent]\n",
    "    predicted_values = pd.DataFrame(columns = list([f'Power {i}' for i in range(1, degree+1)]))\n",
    "    #print(predicted_values)\n",
    "    #print(poly_frame2[dependent])\n",
    "    #print(poly_frame)\n",
    "    for (columnName, columnData) in poly_frame1.items():\n",
    "        if (columnName != 'price'):\n",
    "            x = np.array(poly_frame1[str(columnName)]).reshape(-1,1)\n",
    "            #print(x)\n",
    "            Y = np.array(poly_frame1[dependent])\n",
    "            model = skllm.LinearRegression()\n",
    "            model.fit(x,Y)\n",
    "            print('model for:', columnName)\n",
    "            print('intercept:', model.intercept_)\n",
    "            print('slope:', model.coef_)\n",
    "            print('r_squared:', model.score(x,Y))\n",
    "            print(\"           \")\n",
    "            for column in predicted_values.columns:\n",
    "                predicted_values[column] = model.intercept_ + model.coef_*poly_frame[str(columnName)]\n",
    "                residuals = predicted_values[column] - poly_frame2[dependent]\n",
    "                RSS = (residuals**2).sum()\n",
    "    print(RSS)\n",
    "    print(predicted_values)"
   ]
  },
  {
   "cell_type": "code",
   "execution_count": 282,
   "metadata": {},
   "outputs": [],
   "source": [
    "def poly_regression(dataframe1, dataframe2, independent, dependent):\n",
    "    RSS = []\n",
    "    for degree in range(1,16):\n",
    "        poly_frame1 = polynomial_dataframe(dataframe1[independent], degree)\n",
    "        poly_frame1_features = poly_frame1.columns\n",
    "        poly_frame1[dependent] = dataframe1[dependent]\n",
    "        model = skllm.LinearRegression()\n",
    "        x = np.array(poly_frame1[poly_frame1_features])\n",
    "        Y = np.array(poly_frame1[dependent])\n",
    "        model.fit(x,Y)\n",
    "        #print('polynomial regression model of degree:', degree )\n",
    "        #print('intercept:', model.intercept_)\n",
    "        #print('slope:', pd.DataFrame(model.coef_))\n",
    "        #print('        ')\n",
    "        validation_polyframe = polynomial_dataframe(dataframe2[independent], degree)\n",
    "        predictions = model.predict(validation_polyframe)\n",
    "        validation_polyframe[dependent] = dataframe2[dependent]\n",
    "        residuals = validation_polyframe[dependent] - predictions\n",
    "        rss = sum(residuals**2)\n",
    "        RSS.append(rss)\n",
    "        #print(degree)\n",
    "        #print(RSS)\n",
    "        #print('             ')\n",
    "    print(RSS.index(min(RSS)))\n",
    "    print(min(RSS))"
   ]
  },
  {
   "cell_type": "markdown",
   "metadata": {},
   "source": [
    "Quiz Question: Question 3\n",
    "Which degree (1, 2, …, 15) had the lowest RSS on Validation data?"
   ]
  },
  {
   "cell_type": "code",
   "execution_count": 283,
   "metadata": {},
   "outputs": [
    {
     "name": "stdout",
     "output_type": "stream",
     "text": [
      "6\n",
      "623170277145831.0\n"
     ]
    },
    {
     "data": {
      "text/plain": [
       "<function __main__.RSS(model, x_values, y_values)>"
      ]
     },
     "execution_count": 283,
     "metadata": {},
     "output_type": "execute_result"
    }
   ],
   "source": [
    "poly_regression(train_data, valid_data, 'sqft_living', 'price')\n",
    "RSS"
   ]
  },
  {
   "cell_type": "markdown",
   "metadata": {},
   "source": [
    "Quiz Question:\n",
    "What is the RSS on TEST data for the model with the degree selected from Validation data? (Make sure you got the correct degree from the previous question)"
   ]
  },
  {
   "cell_type": "code",
   "execution_count": 284,
   "metadata": {},
   "outputs": [
    {
     "data": {
      "text/plain": [
       "136766797835253.67"
      ]
     },
     "execution_count": 284,
     "metadata": {},
     "output_type": "execute_result"
    }
   ],
   "source": [
    "poly_frame1 = polynomial_dataframe(train_data['sqft_living'], 6)\n",
    "poly_frame1_features = poly_frame1.columns\n",
    "poly_frame1['price'] = train_data['price']\n",
    "model = skllm.LinearRegression()\n",
    "x = np.array(poly_frame1[poly_frame1_features])\n",
    "Y = np.array(poly_frame1['price'])\n",
    "model.fit(x,Y)\n",
    "test_polyframe = polynomial_dataframe(test_data['sqft_living'], 6)\n",
    "predictions = model.predict(test_polyframe)\n",
    "test_polyframe['price'] = test_data['price']\n",
    "residuals = test_polyframe['price'] - predictions\n",
    "RSS = sum(residuals**2)\n",
    "RSS"
   ]
  },
  {
   "cell_type": "markdown",
   "metadata": {},
   "source": [
    "Ridge Regression "
   ]
  },
  {
   "cell_type": "code",
   "execution_count": 285,
   "metadata": {},
   "outputs": [],
   "source": [
    "def poly_regression_ridge(dataframe, independent, dependent, degree, l2_penalty):\n",
    "        poly_frame = polynomial_dataframe(dataframe[independent], degree)\n",
    "        poly_frame_features = poly_frame.columns\n",
    "        poly_frame[dependent] = dataframe[dependent]\n",
    "        model = skllm.Ridge(alpha = l2_penalty, normalize = True)\n",
    "        x = np.array(poly_frame[poly_frame_features])\n",
    "        Y = np.array(poly_frame[dependent])\n",
    "        model.fit(x,Y)\n",
    "        print('polynomial regression model of degree:', degree )\n",
    "        print('intercept:', model.intercept_)\n",
    "        print('slope:', model.coef_[1])\n",
    "        print('        ')\n",
    "        plt.plot(poly_frame['power_1'], poly_frame['price'], '.')\n",
    "        plt.plot(poly_frame['power_1'], model.predict(x), '-')\n",
    "        return(model.coef_[1])"
   ]
  },
  {
   "cell_type": "code",
   "execution_count": 286,
   "metadata": {},
   "outputs": [],
   "source": [
    "degree = 15\n",
    "l2_small_penalty = 1e-9 #low"
   ]
  },
  {
   "cell_type": "markdown",
   "metadata": {},
   "source": [
    "Next, we use four subsets (set_1, set_2, set_3, set_4) and fit a 15th order polynomial model using each of the subsets."
   ]
  },
  {
   "cell_type": "code",
   "execution_count": 287,
   "metadata": {
    "scrolled": true
   },
   "outputs": [
    {
     "name": "stdout",
     "output_type": "stream",
     "text": [
      "polynomial regression model of degree: 15\n",
      "intercept: 227417.2290426453\n",
      "slope: 0.01982352986750389\n",
      "        \n"
     ]
    },
    {
     "data": {
      "image/png": "[encoded data removed]",
      "text/plain": [
       "<Figure size 432x288 with 1 Axes>"
      ]
     },
     "metadata": {
      "needs_background": "light"
     },
     "output_type": "display_data"
    }
   ],
   "source": [
    "set1 = poly_regression_ridge(set_1, 'sqft_living', 'price', 15, 1e-9)"
   ]
  },
  {
   "cell_type": "code",
   "execution_count": 288,
   "metadata": {
    "scrolled": true
   },
   "outputs": [
    {
     "name": "stdout",
     "output_type": "stream",
     "text": [
      "polynomial regression model of degree: 15\n",
      "intercept: 398707.2633988983\n",
      "slope: 0.16913036430729705\n",
      "        \n"
     ]
    },
    {
     "data": {
      "image/png": "[encoded data removed]",
      "text/plain": [
       "<Figure size 432x288 with 1 Axes>"
      ]
     },
     "metadata": {
      "needs_background": "light"
     },
     "output_type": "display_data"
    }
   ],
   "source": [
    "set2 = poly_regression_ridge(set_2, 'sqft_living', 'price', 15, 1e-9)"
   ]
  },
  {
   "cell_type": "code",
   "execution_count": 289,
   "metadata": {},
   "outputs": [
    {
     "name": "stdout",
     "output_type": "stream",
     "text": [
      "polynomial regression model of degree: 15\n",
      "intercept: 389087.9229277379\n",
      "slope: 0.1575317295688671\n",
      "        \n"
     ]
    },
    {
     "data": {
      "image/png": "[encoded data removed]",
      "text/plain": [
       "<Figure size 432x288 with 1 Axes>"
      ]
     },
     "metadata": {
      "needs_background": "light"
     },
     "output_type": "display_data"
    }
   ],
   "source": [
    "set3 = poly_regression_ridge(set_3, 'sqft_living', 'price', 15, 1e-9)"
   ]
  },
  {
   "cell_type": "code",
   "execution_count": 290,
   "metadata": {
    "scrolled": true
   },
   "outputs": [
    {
     "name": "stdout",
     "output_type": "stream",
     "text": [
      "polynomial regression model of degree: 15\n",
      "intercept: 290807.15926167084\n",
      "slope: 0.0733755963783122\n",
      "        \n"
     ]
    },
    {
     "data": {
      "image/png": "[encoded data removed]",
      "text/plain": [
       "<Figure size 432x288 with 1 Axes>"
      ]
     },
     "metadata": {
      "needs_background": "light"
     },
     "output_type": "display_data"
    }
   ],
   "source": [
    "set4 = poly_regression_ridge(set_4, 'sqft_living', 'price', 15, 1e-9)"
   ]
  },
  {
   "cell_type": "markdown",
   "metadata": {},
   "source": [
    "Quiz Question: For the models learned in each of these training sets, what are the smallest value you learned for the coefficient of feature power_1? Choose the range that contains this value.\n",
    "\n",
    "\n",
    "Quiz Question:  For the models learned in each of these training sets, what are the largest value you learned for the coefficient of feature power_1? Choose the range that contains this value.   \n",
    "    "
   ]
  },
  {
   "cell_type": "code",
   "execution_count": 309,
   "metadata": {},
   "outputs": [
    {
     "name": "stdout",
     "output_type": "stream",
     "text": [
      "model with the lowest coefficient value 0.01982352986750389 is set_1\n",
      "model with the highest coefficient value 0.16913036430729705 is set_2\n"
     ]
    }
   ],
   "source": [
    "power_1_coefficients = dict(zip(Model_keys, [set1, set2, set3, set4]))\n",
    "print('model with the lowest coefficient value {} is {}'.format(min(power_1_coefficients.values()),min(power_1_coefficients, key=lambda k: power_1_coefficients[k]))) \n",
    "print('model with the highest coefficient value {} is {}'.format(max(power_1_coefficients.values()),max(power_1_coefficients, key=lambda k: power_1_coefficients[k]))) \n"
   ]
  },
  {
   "cell_type": "markdown",
   "metadata": {},
   "source": [
    "We can conclude from the plots above that best fitting line changes alot whenever the dataset changes, resulting in models with high complexity that have \n",
    "- low bias \n",
    "- high variance \n",
    "\n",
    "Using the same 4 subsets (set_1, set_2, set_3, set_4), we train 15th order polynomial models again, but this time we apply a large L2 penalty."
   ]
  },
  {
   "cell_type": "code",
   "execution_count": null,
   "metadata": {},
   "outputs": [],
   "source": [
    "degree = 15\n",
    "l2__large_penalty = 1e-9 #low"
   ]
  },
  {
   "cell_type": "code",
   "execution_count": 292,
   "metadata": {},
   "outputs": [
    {
     "name": "stdout",
     "output_type": "stream",
     "text": [
      "polynomial regression model of degree: 15\n",
      "intercept: 538993.0574768196\n",
      "slope: 0.000356038340594133\n",
      "        \n"
     ]
    },
    {
     "data": {
      "image/png": "[encoded data removed]",
      "text/plain": [
       "<Figure size 432x288 with 1 Axes>"
      ]
     },
     "metadata": {
      "needs_background": "light"
     },
     "output_type": "display_data"
    }
   ],
   "source": [
    "h_set1 = poly_regression_ridge(set_1, 'sqft_living', 'price', 15, 1.23e2)"
   ]
  },
  {
   "cell_type": "code",
   "execution_count": 293,
   "metadata": {},
   "outputs": [
    {
     "name": "stdout",
     "output_type": "stream",
     "text": [
      "polynomial regression model of degree: 15\n",
      "intercept: 529947.1244426621\n",
      "slope: 0.0003944534014536322\n",
      "        \n"
     ]
    },
    {
     "data": {
      "image/png": "[encoded data removed]",
      "text/plain": [
       "<Figure size 432x288 with 1 Axes>"
      ]
     },
     "metadata": {
      "needs_background": "light"
     },
     "output_type": "display_data"
    }
   ],
   "source": [
    "h_set2 = poly_regression_ridge(set_2, 'sqft_living', 'price', 15, 1.23e2)"
   ]
  },
  {
   "cell_type": "code",
   "execution_count": 294,
   "metadata": {},
   "outputs": [
    {
     "name": "stdout",
     "output_type": "stream",
     "text": [
      "polynomial regression model of degree: 15\n",
      "intercept: 533849.9674388649\n",
      "slope: 0.00042006213803074164\n",
      "        \n"
     ]
    },
    {
     "data": {
      "image/png": "[encoded data removed]",
      "text/plain": [
       "<Figure size 432x288 with 1 Axes>"
      ]
     },
     "metadata": {
      "needs_background": "light"
     },
     "output_type": "display_data"
    }
   ],
   "source": [
    "h_set3 = poly_regression_ridge(set_3, 'sqft_living', 'price', 15, 1.23e2)"
   ]
  },
  {
   "cell_type": "code",
   "execution_count": 295,
   "metadata": {},
   "outputs": [
    {
     "name": "stdout",
     "output_type": "stream",
     "text": [
      "polynomial regression model of degree: 15\n",
      "intercept: 524791.1112752551\n",
      "slope: 0.000409722690193314\n",
      "        \n"
     ]
    },
    {
     "data": {
      "image/png": "[encoded data removed]",
      "text/plain": [
       "<Figure size 432x288 with 1 Axes>"
      ]
     },
     "metadata": {
      "needs_background": "light"
     },
     "output_type": "display_data"
    }
   ],
   "source": [
    "h_set4 = poly_regression_ridge(set_4, 'sqft_living', 'price', 15, 1.23e2)"
   ]
  },
  {
   "cell_type": "code",
   "execution_count": 296,
   "metadata": {},
   "outputs": [
    {
     "name": "stdout",
     "output_type": "stream",
     "text": [
      "model with the lowest coefficient value 0.000356038340594133 is set_1\n",
      "model with the highest coefficient value 0.00042006213803074164 is set_3\n"
     ]
    }
   ],
   "source": [
    "h_power_1_coefficients = dict(zip(Model_keys, [h_set1, h_set2, h_set3, h_set4]))\n",
    "print('model with the lowest coefficient value {} is {}'.format(min(h_power_1_coefficients.values()),min(h_power_1_coefficients, key=lambda k: h_power_1_coefficients[k]))) \n",
    "print('model with the highest coefficient value {} is {}'.format(max(h_power_1_coefficients.values()),max(h_power_1_coefficients, key=lambda k: h_power_1_coefficients[k]))) \n"
   ]
  },
  {
   "cell_type": "markdown",
   "metadata": {},
   "source": [
    "The trained models with a low penalty also had weights that changed quite drastically, also suggesting high variance in our estimates\n",
    "\n",
    "Ridge regression penalizes this by coercing the magnitudes of the weights to a minimum \n",
    "while still aiming to achieve the best the bias-variance balance"
   ]
  },
  {
   "cell_type": "code",
   "execution_count": null,
   "metadata": {},
   "outputs": [],
   "source": []
  },
  {
   "cell_type": "markdown",
   "metadata": {},
   "source": [
    "l2_penalty is a hyperparameter that needs to be selected from a range of possible values\n",
    "\n",
    "using cross-validation we use smaller data sets as a larger data set \n",
    "\n",
    "k-fold cross validation involves dividing the training set into k segments,\n",
    "for every iteration, one segment is used as the validation set and the rest are training \n",
    "for every iteration, model weights are learned and RSS is calculated using the validation set \n",
    "an average RSS value after all iterations is calculated and \n",
    "this is used as a proxy to the generalization erorr \n",
    "\n",
    "for l2_penalty in a range of possible values, this average k validation error is estimated, and l2_penalty that minimizes the error is selected"
   ]
  },
  {
   "cell_type": "code",
   "execution_count": 311,
   "metadata": {},
   "outputs": [],
   "source": [
    "#k-fold cross-validation, \n",
    "#to understand how validation sets are built \n",
    "\n",
    "n = len(train_valid_shuffled)\n",
    "k = 10 \n",
    "#every segment gets n/k observations, to be used as validation set\n",
    "#and n - n/k are remaining for training set \n",
    "\n",
    "for i in range(k):\n",
    "    start = int((n*i)/k)\n",
    "    end = int((n*(i+1))/k-1)\n",
    "    #print(i, (start,end))\n",
    "    validation_set = train_valid_shuffled[start:end+1]\n",
    "    #print(validation_set.shape)\n",
    "    train_set = train_valid_shuffled[0:start].append(train_valid_shuffled[end+1:n])\n",
    "    #print(train_set.shape)\n",
    "    #print(\"          \")  "
   ]
  },
  {
   "cell_type": "code",
   "execution_count": 298,
   "metadata": {},
   "outputs": [],
   "source": [
    "def k_fold_cross_validation(k, l2_penalty, data, independent, dependent, degree):\n",
    "    n = len(train_valid_shuffled)\n",
    "    for i in range(k):\n",
    "        start = int((n*i)/k)\n",
    "        end = int((n*(i+1))/k-1)\n",
    "        validation_set = data[start:end+1]\n",
    "        train_set = data[0:start].append(data[end+1:n])\n",
    "        #print(i, (start,end))\n",
    "        \n",
    "        poly_frame = polynomial_dataframe(train_set[independent], degree)\n",
    "        poly_frame_features = poly_frame.columns\n",
    "        poly_frame[dependent] = train_set[dependent]\n",
    "        model = skllm.Ridge(alpha = l2_penalty, normalize = True)\n",
    "        x = np.array(poly_frame[poly_frame_features])\n",
    "        Y = np.array(poly_frame[dependent])\n",
    "        model.fit(x,Y)\n",
    "        #print('validation set: ', i)\n",
    "        #print('polynomial regression model of degree:', degree )\n",
    "        #print('intercept:', model.intercept_)\n",
    "        #print('slope:', pd.DataFrame(model.coef_))\n",
    "        #print('        ')\n",
    "        poly_frame_valid = polynomial_dataframe(validation_set[independent], degree)\n",
    "        poly_frame_valid_features = poly_frame_valid.columns\n",
    "        predictions = model.predict(poly_frame_valid)\n",
    "        poly_frame_valid[dependent] = validation_set[dependent]\n",
    "        residuals = validation_set[dependent] - predictions\n",
    "        rss_sum = sum(residuals**2)\n",
    "        rss_sum += rss_sum\n",
    "\n",
    "        average_validation_error = rss_sum/k\n",
    "    \n",
    "    return(average_validation_error)"
   ]
  },
  {
   "cell_type": "code",
   "execution_count": 312,
   "metadata": {},
   "outputs": [
    {
     "data": {
      "text/plain": [
       "62665381370572.56"
      ]
     },
     "execution_count": 312,
     "metadata": {},
     "output_type": "execute_result"
    }
   ],
   "source": [
    "#testing function\n",
    "k_fold_cross_validation(10, 1.55e+5, train_valid_shuffled,'sqft_living','price', 15)"
   ]
  },
  {
   "cell_type": "code",
   "execution_count": 313,
   "metadata": {
    "scrolled": true
   },
   "outputs": [
    {
     "name": "stdout",
     "output_type": "stream",
     "text": [
      "(13, 2)\n"
     ]
    },
    {
     "data": {
      "image/png": "[encoded data removed]",
      "text/plain": [
       "<Figure size 432x288 with 1 Axes>"
      ]
     },
     "metadata": {
      "needs_background": "light"
     },
     "output_type": "display_data"
    }
   ],
   "source": [
    "valid_error = np.empty([0,2], int)\n",
    "for l2_penalty in np.logspace(3,9, num=13):\n",
    "    val_error = k_fold_cross_validation(10, l2_penalty, train_valid_shuffled,'sqft_living','price', 15)\n",
    "    valid_error = np.concatenate((valid_error, np.array([[l2_penalty, val_error]])), axis=0)\n",
    "print(valid_error.shape)\n",
    "plt.plot(valid_error[:,0], valid_error[:,1], 'k.')\n",
    "plt.xscale('log')"
   ]
  },
  {
   "cell_type": "code",
   "execution_count": 314,
   "metadata": {},
   "outputs": [],
   "source": [
    "#fitting the model \n",
    "#RSS on test data given the l2_penalty found using k-fold cross-validation \n",
    "#and weights learned for that particular l2_penalty using train data"
   ]
  },
  {
   "cell_type": "code",
   "execution_count": 324,
   "metadata": {},
   "outputs": [
    {
     "data": {
      "text/plain": [
       "Ridge(alpha=1000.0, normalize=True)"
      ]
     },
     "execution_count": 324,
     "metadata": {},
     "output_type": "execute_result"
    }
   ],
   "source": [
    "poly_frame_train = polynomial_dataframe(train_sales['sqft_living'], 15)\n",
    "poly_frame_train_features = poly_frame_train.columns\n",
    "poly_frame_train['price'] = train_set['price']\n",
    "model = skllm.Ridge(alpha = 1e+3, normalize = True)\n",
    "x = np.array(poly_frame_train[poly_frame_train_features])\n",
    "Y = np.array(poly_frame_train['price'])\n",
    "model.fit(x,Y)\n"
   ]
  },
  {
   "cell_type": "code",
   "execution_count": 325,
   "metadata": {},
   "outputs": [
    {
     "name": "stdout",
     "output_type": "stream",
     "text": [
      "537228684331234.4\n"
     ]
    }
   ],
   "source": [
    "poly_frame_test = polynomial_dataframe(test_sales['sqft_living'], 15)\n",
    "poly_frame_test_features = poly_frame_test.columns\n",
    "predictions = model.predict(poly_frame_test)\n",
    "poly_frame_test['price'] = test_sales['price']\n",
    "residuals = test_sales['price'] - predictions\n",
    "rss = (residuals**2).sum()\n",
    "print(rss)\n",
    "        "
   ]
  },
  {
   "cell_type": "code",
   "execution_count": 328,
   "metadata": {},
   "outputs": [
    {
     "data": {
      "text/plain": [
       "'for i in range(len(my_weights)):\\n    if i == 0: \\n        print(i)\\n        print(example_features[:,i].reshape(-1,1))'"
      ]
     },
     "execution_count": 328,
     "metadata": {},
     "output_type": "execute_result"
    }
   ],
   "source": [
    "(example_features,example_output) = get_features_matrix(sales_data, ['sqft_living'], 'price')\n",
    "my_weights = np.array([1.,10.])\n",
    "test_predictions = predict_outcome(example_features, my_weights)\n",
    "errors = test_predictions - example_output\n",
    "\n",
    "'''for i in range(len(my_weights)):\n",
    "    if i == 0: \n",
    "        print(i)\n",
    "        print(example_features[:,i].reshape(-1,1))'''"
   ]
  },
  {
   "cell_type": "code",
   "execution_count": 329,
   "metadata": {},
   "outputs": [],
   "source": [
    "def feature_derivative_ridge(errors, feature_matrix, weights, l2_penalty):\n",
    "    derivative = []\n",
    "    for i in range(len(weights)):\n",
    "        if i == 0:\n",
    "            derivative = np.append(derivative,2*np.dot(errors,feature_matrix[:,i].reshape(-1,1)))\n",
    "            #print(derivative)\n",
    "        else:\n",
    "            derivative = np.append(derivative,2*np.dot(errors,feature_matrix[:,i].reshape(-1,1)) + 2*(l2_penalty*weights[i]))\n",
    "            #print(derivative)\n",
    "    return (derivative)"
   ]
  },
  {
   "cell_type": "code",
   "execution_count": 333,
   "metadata": {},
   "outputs": [
    {
     "data": {
      "text/plain": [
       "array([-2.24467493e+10, -5.65541668e+13])"
      ]
     },
     "execution_count": 333,
     "metadata": {},
     "output_type": "execute_result"
    }
   ],
   "source": [
    "result = feature_derivative_ridge(errors, example_features,my_weights, 1000)\n",
    "result"
   ]
  },
  {
   "cell_type": "code",
   "execution_count": null,
   "metadata": {},
   "outputs": [],
   "source": []
  },
  {
   "cell_type": "code",
   "execution_count": 334,
   "metadata": {},
   "outputs": [],
   "source": [
    "def ridge_regression_gradient_descent(feature_matrix, output, initial_weights, step_size, l2_penalty, max_iterations):\n",
    "    weights = np.array(initial_weights)\n",
    "    #print(type(weights))\n",
    "    #print(weights)\n",
    "    #print(len(weights))\n",
    "    while max_iterations > 0: \n",
    "        predictions = predict_outcome(feature_matrix, weights)\n",
    "        errors = predictions - output\n",
    "        #print(weights.shape)\n",
    "        #print(range(len(weights)))\n",
    "        derivative = feature_derivative_ridge(errors, feature_matrix, weights, l2_penalty)\n",
    "        #print(derivative)\n",
    "        weights = weights - (step_size*derivative)\n",
    "        max_iterations -= 1\n",
    "    return(weights)   "
   ]
  },
  {
   "cell_type": "code",
   "execution_count": 318,
   "metadata": {},
   "outputs": [
    {
     "data": {
      "text/plain": [
       "array([-1.63113515e-01,  2.63024369e+02])"
      ]
     },
     "execution_count": 318,
     "metadata": {},
     "output_type": "execute_result"
    }
   ],
   "source": [
    "(simple_feature_matrix, output) = get_features_matrix(train_sales, ['sqft_living'], 'price')\n",
    "initial_weights = [0.,0.]\n",
    "step_size = 1e-12\n",
    "max_iterations = 1000 \n",
    "l2_penalty = 0 \n",
    "\n",
    "zero_penalty_weights = ridge_regression_gradient_descent(simple_feature_matrix, output, initial_weights, step_size, 0, max_iterations)\n",
    "zero_penalty_weights"
   ]
  },
  {
   "cell_type": "code",
   "execution_count": 319,
   "metadata": {},
   "outputs": [
    {
     "data": {
      "text/plain": [
       "array([  9.76730382, 124.57217567])"
      ]
     },
     "execution_count": 319,
     "metadata": {},
     "output_type": "execute_result"
    }
   ],
   "source": [
    "high_penalty_weights = ridge_regression_gradient_descent(simple_feature_matrix, output, initial_weights, step_size, 1e11, max_iterations)\n",
    "high_penalty_weights"
   ]
  },
  {
   "cell_type": "code",
   "execution_count": 335,
   "metadata": {},
   "outputs": [
    {
     "data": {
      "text/plain": [
       "[<matplotlib.lines.Line2D at 0x2a019d7aa90>,\n",
       " <matplotlib.lines.Line2D at 0x2a019d7aac0>,\n",
       " <matplotlib.lines.Line2D at 0x2a019d7abb0>,\n",
       " <matplotlib.lines.Line2D at 0x2a019d7ac70>]"
      ]
     },
     "execution_count": 335,
     "metadata": {},
     "output_type": "execute_result"
    },
    {
     "data": {
      "image/png": "[encoded data removed]",
      "text/plain": [
       "<Figure size 432x288 with 1 Axes>"
      ]
     },
     "metadata": {
      "needs_background": "light"
     },
     "output_type": "display_data"
    }
   ],
   "source": [
    "plt.plot(simple_feature_matrix, output, 'k.')\n",
    "plt.plot(simple_feature_matrix, predict_outcome(simple_feature_matrix, zero_penalty_weights), 'b-', simple_feature_matrix, predict_outcome(simple_feature_matrix, high_penalty_weights),'r-')"
   ]
  },
  {
   "cell_type": "code",
   "execution_count": 336,
   "metadata": {},
   "outputs": [],
   "source": [
    "model_features = ['sqft_living', 'sqft_living15']\n",
    "my_output = 'price'\n",
    "(feature_matrix, output) = get_features_matrix(train_sales, model_features, my_output)\n",
    "(test_feature_matrix, test_output) = get_features_matrix(test_sales, model_features, my_output)"
   ]
  },
  {
   "cell_type": "code",
   "execution_count": 337,
   "metadata": {},
   "outputs": [],
   "source": [
    "initial_weights = np.array([0., 0., 0.])\n",
    "step_size = 1e-12\n",
    "max_iterations = 1000"
   ]
  },
  {
   "cell_type": "code",
   "execution_count": 338,
   "metadata": {},
   "outputs": [
    {
     "data": {
      "text/plain": [
       "array([ -0.35743483, 243.05416982,  22.41481497])"
      ]
     },
     "execution_count": 338,
     "metadata": {},
     "output_type": "execute_result"
    }
   ],
   "source": [
    "multiple_weights_0_penalty = ridge_regression_gradient_descent(feature_matrix, output, initial_weights, step_size, 0, max_iterations)\n",
    "multiple_weights_0_penalty"
   ]
  },
  {
   "cell_type": "code",
   "execution_count": 339,
   "metadata": {},
   "outputs": [
    {
     "data": {
      "text/plain": [
       "array([ 6.74296579, 91.48927365, 78.43658766])"
      ]
     },
     "execution_count": 339,
     "metadata": {},
     "output_type": "execute_result"
    }
   ],
   "source": [
    "multiple_weights_high_penalty = ridge_regression_gradient_descent(feature_matrix, output, initial_weights, step_size, 1e11, max_iterations)\n",
    "multiple_weights_high_penalty"
   ]
  },
  {
   "cell_type": "code",
   "execution_count": 340,
   "metadata": {},
   "outputs": [
    {
     "name": "stdout",
     "output_type": "stream",
     "text": [
      "1784273286136298.0\n"
     ]
    }
   ],
   "source": [
    "initial_predictions = predict_outcome(test_feature_matrix, initial_weights)\n",
    "initial_residuals = test_output - initial_predictions\n",
    "initial_RSS = (initial_residuals**2).sum()\n",
    "print(initial_RSS)"
   ]
  },
  {
   "cell_type": "code",
   "execution_count": 341,
   "metadata": {},
   "outputs": [
    {
     "name": "stdout",
     "output_type": "stream",
     "text": [
      "274067615918575.53\n"
     ]
    }
   ],
   "source": [
    "no_regularization_predictions = predict_outcome(test_feature_matrix, multiple_weights_0_penalty)\n",
    "no_regularization_residuals = test_output - no_regularization_predictions\n",
    "no_regularization_RSS = (no_regularization_residuals**2).sum()\n",
    "print(no_regularization_RSS)"
   ]
  },
  {
   "cell_type": "code",
   "execution_count": 342,
   "metadata": {},
   "outputs": [
    {
     "name": "stdout",
     "output_type": "stream",
     "text": [
      "500404800500841.75\n"
     ]
    }
   ],
   "source": [
    "regularization_predictions = predict_outcome(test_feature_matrix, multiple_weights_high_penalty)\n",
    "regularization_residuals = test_output - regularization_predictions\n",
    "regularization_RSS = (regularization_residuals**2).sum()\n",
    "print(regularization_RSS)"
   ]
  },
  {
   "cell_type": "code",
   "execution_count": 343,
   "metadata": {
    "scrolled": true
   },
   "outputs": [
    {
     "name": "stdout",
     "output_type": "stream",
     "text": [
      "387465.47605823533\n",
      "-77465.47605823533\n"
     ]
    }
   ],
   "source": [
    "print (no_regularization_predictions[0])\n",
    "print (test_output[0] - no_regularization_predictions[0])"
   ]
  },
  {
   "cell_type": "code",
   "execution_count": 344,
   "metadata": {},
   "outputs": [
    {
     "name": "stdout",
     "output_type": "stream",
     "text": [
      "270453.53032194055\n",
      "39546.46967805945\n"
     ]
    }
   ],
   "source": [
    "print (regularization_predictions[0])\n",
    "print (test_output[0] - regularization_predictions[0])"
   ]
  },
  {
   "cell_type": "code",
   "execution_count": null,
   "metadata": {},
   "outputs": [],
   "source": []
  },
  {
   "cell_type": "code",
   "execution_count": null,
   "metadata": {},
   "outputs": [],
   "source": []
  }
 ],
 "metadata": {
  "kernelspec": {
   "display_name": "Python 3",
   "language": "python",
   "name": "python3"
  },
  "language_info": {
   "codemirror_mode": {
    "name": "ipython",
    "version": 3
   },
   "file_extension": ".py",
   "mimetype": "text/x-python",
   "name": "python",
   "nbconvert_exporter": "python",
   "pygments_lexer": "ipython3",
   "version": "3.8.3"
  }
 },
 "nbformat": 4,
 "nbformat_minor": 4
}
