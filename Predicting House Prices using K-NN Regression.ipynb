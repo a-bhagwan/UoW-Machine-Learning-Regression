{
 "cells": [
  {
   "cell_type": "code",
   "execution_count": 103,
   "metadata": {},
   "outputs": [],
   "source": [
    "import numpy as np\n",
    "import pandas as pd\n",
    "from math import sqrt\n",
    "import matplotlib.pyplot as plt\n",
    "import sklearn.linear_model as skllm\n",
    "%matplotlib inline"
   ]
  },
  {
   "cell_type": "code",
   "execution_count": 104,
   "metadata": {},
   "outputs": [],
   "source": [
    "sales = pd.read_csv(\"kc_house_data_small.csv\")\n",
    "train_sales = pd.read_csv(\"kc_house_data_small_train.csv\")\n",
    "test_sales = pd.read_csv(\"kc_house_data_small_test.csv\")\n",
    "valid_sales = pd.read_csv(\"kc_house_data_validation.csv\")"
   ]
  },
  {
   "cell_type": "code",
   "execution_count": 105,
   "metadata": {},
   "outputs": [],
   "source": [
    "def get_features_matrix(dataframe, features, output):\n",
    "  dataframe['constant'] = 1\n",
    "  features = ['constant'] + features\n",
    "  #print(features)\n",
    "  features_matrix = dataframe[features].to_numpy()\n",
    "  output_array = dataframe[output].to_numpy()\n",
    "  #print(features_matrix)\n",
    "  return (features_matrix,output_array)"
   ]
  },
  {
   "cell_type": "code",
   "execution_count": 122,
   "metadata": {},
   "outputs": [],
   "source": [
    "def norms(features_matrix):\n",
    "    norms_matrix = np.array([]) \n",
    "    normalized_features = np.array([])\n",
    "    for i in range(len(features_matrix[0])):\n",
    "        norms_matrix = np.append(norms_matrix, np.sqrt(np.dot(features_matrix[:,i],features_matrix[:,i])))\n",
    "        print(norms_matrix.shape)\n",
    "    normalized_features = features_matrix/norms_matrix\n",
    "    #print(normalized_features.shape)\n",
    "    #print(norms_matrix)\n",
    "    #print(normalized_features.shape)\n",
    "    return(normalized_features, norms_matrix)"
   ]
  },
  {
   "cell_type": "code",
   "execution_count": 123,
   "metadata": {},
   "outputs": [],
   "source": [
    "feature_list = ['bedrooms',  \n",
    "                'bathrooms',  \n",
    "                'sqft_living',  \n",
    "                'sqft_lot',  \n",
    "                'floors',\n",
    "                'waterfront',  \n",
    "                'view',  \n",
    "                'condition',  \n",
    "                'grade',  \n",
    "                'sqft_above',  \n",
    "                'sqft_basement',\n",
    "                'yr_built',  \n",
    "                'yr_renovated',  \n",
    "                'lat',  \n",
    "                'long',  \n",
    "                'sqft_living15',  \n",
    "                'sqft_lot15']\n",
    "target = 'price'"
   ]
  },
  {
   "cell_type": "code",
   "execution_count": 124,
   "metadata": {},
   "outputs": [],
   "source": [
    "(features_train, output_train) = get_features_matrix(train_sales, feature_list, target)\n",
    "(features_test, output_test) = get_features_matrix(test_sales, feature_list, target)\n",
    "(features_valid, output_valid) = get_features_matrix(valid_sales, feature_list, target)"
   ]
  },
  {
   "cell_type": "code",
   "execution_count": 125,
   "metadata": {},
   "outputs": [
    {
     "name": "stdout",
     "output_type": "stream",
     "text": [
      "(1,)\n",
      "(2,)\n",
      "(3,)\n",
      "(4,)\n",
      "(5,)\n",
      "(6,)\n",
      "(7,)\n",
      "(8,)\n",
      "(9,)\n",
      "(10,)\n",
      "(11,)\n",
      "(12,)\n",
      "(13,)\n",
      "(14,)\n",
      "(15,)\n",
      "(16,)\n",
      "(17,)\n",
      "(18,)\n"
     ]
    },
    {
     "data": {
      "text/plain": [
       "array([7.43437960e+01, 2.57850732e+02, 1.65977596e+02, 1.67688695e+05,\n",
       "       3.11491224e+06, 1.17240138e+02, 6.32455532e+00, 5.87962584e+01,\n",
       "       2.57906960e+02, 5.75318173e+02, 1.45365513e+05, 3.90863965e+04,\n",
       "       1.46559338e+05, 2.99361461e+04, 3.53588887e+03, 9.08552952e+03,\n",
       "       1.55531640e+05, 2.46533053e+06])"
      ]
     },
     "execution_count": 125,
     "metadata": {},
     "output_type": "execute_result"
    }
   ],
   "source": [
    "#to ensure consistent normalization, divide test and \n",
    "#valid features matrix with\n",
    "#the same norm_matrix retrieved from the training set\n",
    "(normalized_train, norm_matrix) = norms(features_train)\n",
    "normalized_test = features_test/norm_matrix\n",
    "normalized_valid = features_valid/norm_matrix\n",
    "norm_matrix"
   ]
  },
  {
   "cell_type": "code",
   "execution_count": 110,
   "metadata": {},
   "outputs": [],
   "source": [
    "query_house = normalized_test[0]\n",
    "tenth_house = normalized_train[9]"
   ]
  },
  {
   "cell_type": "markdown",
   "metadata": {},
   "source": [
    "euclidean distance is: \n",
    "if p1, p2, p3,...pn are elements of the first vector \n",
    "and q1, q2, q3, ..., qn are elements of the second vector\n",
    "\n",
    "where all elements are points on ther real number line \n",
    "the distance between every element is = |pn - qn| \n",
    "which when squared and summed, then taken a sqrt root of leaves all positive numbers unchanged \n",
    "but replaces negative distances with their absolute value "
   ]
  },
  {
   "cell_type": "code",
   "execution_count": 111,
   "metadata": {},
   "outputs": [
    {
     "data": {
      "text/plain": [
       "0.05972359371398078"
      ]
     },
     "execution_count": 111,
     "metadata": {},
     "output_type": "execute_result"
    }
   ],
   "source": [
    "euclidean_distance = np.sqrt(np.sum((query_house-tenth_house)**2))\n",
    "euclidean_distance"
   ]
  },
  {
   "cell_type": "markdown",
   "metadata": {},
   "source": [
    "now we will build a function that loops through every observation to find the nearest neighbor house this can be done by vectorization "
   ]
  },
  {
   "cell_type": "code",
   "execution_count": 112,
   "metadata": {},
   "outputs": [
    {
     "name": "stdout",
     "output_type": "stream",
     "text": [
      "[0. 0. 0. 0. 0. 0. 0. 0. 0. 0. 0. 0. 0. 0. 0. 0. 0. 0.]\n",
      "[0. 0. 0. 0. 0. 0. 0. 0. 0. 0. 0. 0. 0. 0. 0. 0. 0. 0.]\n",
      "[0. 0. 0. 0. 0. 0. 0. 0. 0. 0. 0. 0. 0. 0. 0. 0. 0. 0.]\n"
     ]
    }
   ],
   "source": [
    "results = np.array([])\n",
    "for i in range(3):\n",
    "    results = normalized_train[i] - normalized_test[0]\n",
    "    print(results-results)\n",
    "    \n",
    "#vectorization works \n"
   ]
  },
  {
   "cell_type": "code",
   "execution_count": 113,
   "metadata": {},
   "outputs": [
    {
     "data": {
      "text/plain": [
       "0.023708232416678195"
      ]
     },
     "execution_count": 113,
     "metadata": {},
     "output_type": "execute_result"
    }
   ],
   "source": [
    "difference = normalized_train - normalized_test[0]\n",
    "difference\n",
    "#difference is element by element wise difference \n",
    "#to turn this into euclidean distance \n",
    "#we have to first square the difference, sum over all elements in \n",
    "#the difference vector, then take the square root of the sum\n",
    "\n",
    "euclidean_distance_all = np.sqrt(np.sum(difference**2, axis=1))\n",
    "euclidean_distance_all[100]"
   ]
  },
  {
   "cell_type": "code",
   "execution_count": 114,
   "metadata": {},
   "outputs": [],
   "source": [
    "def compute_distance(features_instances, features_query):\n",
    "    difference = features_instances - features_query\n",
    "    euclidean_distance = np.sqrt(np.sum(difference**2, axis=1))\n",
    "    return(euclidean_distance)\n",
    "    "
   ]
  },
  {
   "cell_type": "code",
   "execution_count": 115,
   "metadata": {},
   "outputs": [
    {
     "name": "stdout",
     "output_type": "stream",
     "text": [
      "382 0.0028604955575117085\n"
     ]
    }
   ],
   "source": [
    "third_house_distance = compute_distance(normalized_train, normalized_test[2])\n",
    "third_house_distance.argsort()[0]\n",
    "print(third_house_distance.argsort()[0], min(third_house_distance))\n"
   ]
  },
  {
   "cell_type": "code",
   "execution_count": 116,
   "metadata": {},
   "outputs": [
    {
     "name": "stdout",
     "output_type": "stream",
     "text": [
      "[ 382 1149 4087 3142]\n"
     ]
    }
   ],
   "source": [
    "print(third_house_distance.argsort()[:4])"
   ]
  },
  {
   "cell_type": "code",
   "execution_count": 117,
   "metadata": {},
   "outputs": [
    {
     "data": {
      "text/plain": [
       "249000"
      ]
     },
     "execution_count": 117,
     "metadata": {},
     "output_type": "execute_result"
    }
   ],
   "source": [
    "#the value of the 382th house would be the 'predicted output' for the query house\n",
    "output_train[382]"
   ]
  },
  {
   "cell_type": "code",
   "execution_count": 118,
   "metadata": {},
   "outputs": [],
   "source": [
    "def compute_k_nearest_neighbors(k,features_instances, features_query):\n",
    "    distances = compute_distance(features_instances, features_query)\n",
    "    return np.argsort(distances, axis = 0)[:k]"
   ]
  },
  {
   "cell_type": "code",
   "execution_count": 119,
   "metadata": {},
   "outputs": [
    {
     "data": {
      "text/plain": [
       "array([ 382, 1149, 4087, 3142], dtype=int64)"
      ]
     },
     "execution_count": 119,
     "metadata": {},
     "output_type": "execute_result"
    }
   ],
   "source": [
    "knn_for_third_house = compute_k_nearest_neighbors(4, normalized_train, normalized_test[2])\n",
    "knn_for_third_house"
   ]
  },
  {
   "cell_type": "code",
   "execution_count": 120,
   "metadata": {},
   "outputs": [],
   "source": [
    "def compute_distances_k_average(k, features_instances, output_values, features_query):\n",
    "    k_neighbors = compute_k_nearest_neighbors(k,features_instances, features_query)\n",
    "    knn_average = np.mean(output_values[k_neighbors])\n",
    "    return(knn_average)"
   ]
  },
  {
   "cell_type": "code",
   "execution_count": 121,
   "metadata": {},
   "outputs": [
    {
     "data": {
      "text/plain": [
       "413987.5"
      ]
     },
     "execution_count": 121,
     "metadata": {},
     "output_type": "execute_result"
    }
   ],
   "source": [
    "fourth_nearest_neighbor_average = compute_distances_k_average(4, normalized_train, output_train, normalized_test[2])\n",
    "fourth_nearest_neighbor_average"
   ]
  },
  {
   "cell_type": "code",
   "execution_count": null,
   "metadata": {},
   "outputs": [],
   "source": []
  },
  {
   "cell_type": "code",
   "execution_count": null,
   "metadata": {},
   "outputs": [],
   "source": []
  }
 ],
 "metadata": {
  "kernelspec": {
   "display_name": "Python 3",
   "language": "python",
   "name": "python3"
  },
  "language_info": {
   "codemirror_mode": {
    "name": "ipython",
    "version": 3
   },
   "file_extension": ".py",
   "mimetype": "text/x-python",
   "name": "python",
   "nbconvert_exporter": "python",
   "pygments_lexer": "ipython3",
   "version": "3.8.3"
  }
 },
 "nbformat": 4,
 "nbformat_minor": 4
}
