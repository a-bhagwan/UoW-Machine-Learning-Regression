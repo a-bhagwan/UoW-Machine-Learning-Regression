{
 "cells": [
  {
   "cell_type": "code",
   "execution_count": 22,
   "metadata": {},
   "outputs": [],
   "source": [
    "#import all necessary libraries, \n",
    "#here log, sqrt is used to create the new features\n",
    "\n",
    "import numpy as np\n",
    "import pandas as pd\n",
    "from math import log, sqrt\n",
    "import matplotlib.pyplot as plt\n",
    "import sklearn.linear_model as skllm\n",
    "%matplotlib inline"
   ]
  },
  {
   "cell_type": "code",
   "execution_count": 23,
   "metadata": {},
   "outputs": [],
   "source": [
    "#import the original sales, train, test data sets\n",
    "\n",
    "sales = pd.read_csv(\"kc_house_data.csv\")\n",
    "train_sales = pd.read_csv(\"kc_house_train_data.csv\")\n",
    "test_sales = pd.read_csv(\"kc_house_test_data.csv\")"
   ]
  },
  {
   "cell_type": "code",
   "execution_count": 24,
   "metadata": {},
   "outputs": [],
   "source": [
    "#import the train, valid, test segmented data sets\n",
    "\n",
    "wk3_train_set = pd.read_csv(\"wk3_kc_house_train_data.csv\")\n",
    "wk3_valid_set = pd.read_csv(\"wk3_kc_house_valid_data.csv\")\n",
    "wk3_test_set = pd.read_csv(\"wk3_kc_house_test_data.csv\")"
   ]
  },
  {
   "cell_type": "code",
   "execution_count": 25,
   "metadata": {},
   "outputs": [],
   "source": [
    "def predict_outcome(features_matrix,weights):\n",
    "  predictions = np.dot(features_matrix, weights)\n",
    "  return (predictions)"
   ]
  },
  {
   "cell_type": "markdown",
   "metadata": {},
   "source": [
    "create the new features\n",
    "\n",
    "- squaring the number of bedrooms and floor space increases the distance between the too many and too few\n",
    "\n",
    "- taking sqrt will in contrast decrease the separation"
   ]
  },
  {
   "cell_type": "code",
   "execution_count": 26,
   "metadata": {},
   "outputs": [],
   "source": [
    "sales['sqft_living_sqrt'] = sales['sqft_living'].apply(sqrt)\n",
    "sales['sqft_lot_sqrt'] = sales['sqft_lot'].apply(sqrt)\n",
    "sales['bedrooms_square'] = sales['bedrooms']**2\n",
    "sales['floors_square'] = sales['floors']**2"
   ]
  },
  {
   "cell_type": "code",
   "execution_count": 27,
   "metadata": {},
   "outputs": [
    {
     "data": {
      "text/plain": [
       "Lasso(alpha=500.0, normalize=True)"
      ]
     },
     "execution_count": 27,
     "metadata": {},
     "output_type": "execute_result"
    }
   ],
   "source": [
    "#build an initial list of all initial features of interest to select from\n",
    "\n",
    "features_of_interest = ['bedrooms', 'bedrooms_square',\n",
    "            'bathrooms',\n",
    "            'sqft_living', 'sqft_living_sqrt',\n",
    "            'sqft_lot', 'sqft_lot_sqrt',\n",
    "            'floors', 'floors_square',\n",
    "            'waterfront', 'view', 'condition', 'grade',\n",
    "            'sqft_above',\n",
    "            'sqft_basement',\n",
    "            'yr_built', 'yr_renovated']\n",
    "\n",
    "#using linear_model.Lasso,learn weights \n",
    "#on all initial features using the sales\n",
    "#set parameters, normalize = True to normalize \n",
    "\n",
    "model_all = skllm.Lasso(alpha=5e2, normalize=True)\n",
    "model_all.fit(sales[features_of_interest], sales['price'])\n"
   ]
  },
  {
   "cell_type": "code",
   "execution_count": 28,
   "metadata": {},
   "outputs": [
    {
     "data": {
      "text/plain": [
       "array([    0.        ,     0.        ,     0.        ,   134.43931396,\n",
       "           0.        ,     0.        ,     0.        ,     0.        ,\n",
       "           0.        ,     0.        , 24750.00458561,     0.        ,\n",
       "       61749.10309071,     0.        ,     0.        ,    -0.        ,\n",
       "           0.        ])"
      ]
     },
     "execution_count": 28,
     "metadata": {},
     "output_type": "execute_result"
    }
   ],
   "source": [
    "#retrieve all weights\n",
    "model_all.coef_"
   ]
  },
  {
   "cell_type": "markdown",
   "metadata": {},
   "source": [
    "Quiz Question: Which of the following features have been chosen by LASSO, i.e. which features were assigned nonzero weights? (Choose all that apply)\n"
   ]
  },
  {
   "cell_type": "code",
   "execution_count": 29,
   "metadata": {
    "scrolled": true
   },
   "outputs": [
    {
     "name": "stdout",
     "output_type": "stream",
     "text": [
      "index: 3\n",
      "feature selected: sqft_living\n",
      "134.43931395541438\n",
      "index: 10\n",
      "feature selected: view\n",
      "24750.004585609488\n",
      "index: 12\n",
      "feature selected: grade\n",
      "61749.10309070811\n"
     ]
    }
   ],
   "source": [
    "#print out only the weights =/= 0 along with the corresponding feature name and index\n",
    "for i in range(len(model_all.coef_)):\n",
    "    if model_all.coef_[i] != 0:\n",
    "        print('index:', i)\n",
    "        print('feature selected:', features_of_interest[i])\n",
    "        print(model_all.coef_[i])"
   ]
  },
  {
   "cell_type": "code",
   "execution_count": 38,
   "metadata": {},
   "outputs": [],
   "source": [
    "#repeat the new features creation \n",
    "#with test, train and validation sets\n",
    "\n",
    "wk3_train_set['sqft_living_sqrt'] = wk3_train_set['sqft_living'].apply(sqrt)\n",
    "wk3_train_set['sqft_lot_sqrt'] = wk3_train_set['sqft_lot'].apply(sqrt)\n",
    "wk3_train_set['bedrooms_square'] = wk3_train_set['bedrooms']**2\n",
    "wk3_train_set['floors_square'] = wk3_train_set['floors']**2\n",
    "\n",
    "wk3_valid_set['sqft_living_sqrt'] = wk3_valid_set['sqft_living'].apply(sqrt)\n",
    "wk3_valid_set['sqft_lot_sqrt'] = wk3_valid_set['sqft_lot'].apply(sqrt)\n",
    "wk3_valid_set['bedrooms_square'] = wk3_valid_set['bedrooms']**2\n",
    "wk3_valid_set['floors_square'] = wk3_valid_set['floors']**2\n",
    "\n",
    "wk3_test_set['sqft_living_sqrt'] = wk3_test_set['sqft_living'].apply(sqrt)\n",
    "wk3_test_set['sqft_lot_sqrt'] = wk3_test_set['sqft_lot'].apply(sqrt)\n",
    "wk3_test_set['bedrooms_square'] = wk3_test_set['bedrooms']**2\n",
    "wk3_test_set['floors_square'] = wk3_test_set['floors']**2"
   ]
  },
  {
   "cell_type": "code",
   "execution_count": 39,
   "metadata": {},
   "outputs": [
    {
     "name": "stdout",
     "output_type": "stream",
     "text": [
      "l1_penalty with lowest RSS: [10.0]\n",
      "398213327300134.94\n"
     ]
    }
   ],
   "source": [
    "#write a for loop that takes in different values of l1_penalty\n",
    "#and runs a lasso regression model each time\n",
    "\n",
    "RSS = []\n",
    "l1_penalty_iter = []\n",
    "for l1_penalty in np.logspace(1,7, num=13): \n",
    "    l1_penalty_iter.append(l1_penalty)\n",
    "    model_train = skllm.Lasso(alpha = l1_penalty, normalize=True)\n",
    "    model_train.fit(wk3_train_set[features_of_interest], wk3_train_set['price'])\n",
    "    weights = model_train.coef_\n",
    "    #print('model for l1_penalty: ', l1_penalty)\n",
    "    #print(weights)\n",
    "    predictions = model_train.predict(wk3_valid_set[features_of_interest])\n",
    "    residuals = wk3_valid_set['price'] - predictions\n",
    "    rss = (residuals**2).sum()\n",
    "    RSS.append(rss)\n",
    "    #print(rss)\n",
    "    #print('           ')\n",
    "    l1_penalty_RSS = dict(zip(l1_penalty_iter, RSS))\n",
    "\n",
    "print('l1_penalty with lowest RSS:', [f for f,ftype in l1_penalty_RSS.items() if ftype == min(RSS)])\n",
    "print(min(RSS))"
   ]
  },
  {
   "cell_type": "markdown",
   "metadata": {},
   "source": [
    "here we train the model on the train set to extract the learned weights\n",
    "then estimate predicted values using test data and finally calculate the RSS "
   ]
  },
  {
   "cell_type": "code",
   "execution_count": 32,
   "metadata": {},
   "outputs": [
    {
     "name": "stdout",
     "output_type": "stream",
     "text": [
      "number of non-zero coefficients: 15\n",
      "RSS: 98467402552698.81\n"
     ]
    }
   ],
   "source": [
    "model_train = skllm.Lasso(alpha = 10.0, normalize=True)\n",
    "model_train.fit(wk3_train_set[features_of_interest], wk3_train_set['price'])\n",
    "print('number of non-zero coefficients:',np.count_nonzero(model_train.coef_) + np.count_nonzero(model_train.intercept_))\n",
    "\n",
    "predictions = model_train.predict(wk3_test_set[features_of_interest])\n",
    "residuals = wk3_test_set['price'] - predictions\n",
    "rss_test = (residuals**2).sum()\n",
    "print('RSS:', rss_test)"
   ]
  },
  {
   "cell_type": "code",
   "execution_count": 33,
   "metadata": {},
   "outputs": [],
   "source": [
    "#for every value of the l1_penalty, \n",
    "#how many non-zero coefficients are there?\n",
    "\n",
    "l1_penalty_num_nonzeros = []\n",
    "l1_penalty_list = []\n",
    "for l1_penalty in np.logspace(1,4, num=20):\n",
    "    l1_penalty_list.append(l1_penalty)\n",
    "    model_train = skllm.Lasso(alpha = l1_penalty, normalize=True)\n",
    "    model_train.fit(wk3_train_set[features_of_interest], wk3_train_set['price'])\n",
    "    #print(np.count_nonzero(model_train.coef_) + np.count_nonzero(model_train.intercept_))\n",
    "    l1_penalty_num_nonzeros.append(np.count_nonzero(model_train.coef_) + np.count_nonzero(model_train.intercept_))\n",
    "\n",
    "max_nonzeros = 7\n",
    "#print(l1_penalty_list)\n",
    "#print('            ')\n",
    "\n"
   ]
  },
  {
   "cell_type": "markdown",
   "metadata": {},
   "source": [
    "after specifying the max no. of non-zero coefficients we will tolerate\n",
    "\n",
    "we look for the boundaries (upper and lower bounds) of the l2 penalty, \n",
    "where the upper bound is the largest penalty value for which the num of non zeroes stays under the tolerance\n",
    "\n",
    "-any higher than the upper bound and the num of non zeroes will definitely decrease\n",
    "\n",
    "and where the lower bound is the smallest penalty for which the num of non zeroesstays above the tolerance \n",
    "\n",
    "-any lower than the lower bound and the num of non zeroes will  definitely increase \n"
   ]
  },
  {
   "cell_type": "code",
   "execution_count": 34,
   "metadata": {},
   "outputs": [
    {
     "name": "stdout",
     "output_type": "stream",
     "text": [
      "Upper Bound is 379.26901907322497 and Lower Bound is 127.42749857031335 \n"
     ]
    }
   ],
   "source": [
    "\n",
    "l1_penalty_min = []\n",
    "l1_penalty_max = []\n",
    "\n",
    "for x in l1_penalty_num_nonzeros:\n",
    "    if (x > max_nonzeros):\n",
    "        l1_penalty_max.append(l1_penalty_list[x])\n",
    "    else: \n",
    "        l1_penalty_min.append(l1_penalty_list[x]) \n",
    "upper_bound = min(l1_penalty_max)\n",
    "lower_bound = max(l1_penalty_min)\n",
    "print('Upper Bound is {} and Lower Bound is {} '.format(upper_bound, lower_bound))"
   ]
  },
  {
   "cell_type": "markdown",
   "metadata": {},
   "source": [
    "using the range of l1_penalties found we will estimate which l1_penalty value has the lowest RSS on test data"
   ]
  },
  {
   "cell_type": "code",
   "execution_count": 35,
   "metadata": {
    "scrolled": false
   },
   "outputs": [
    {
     "name": "stdout",
     "output_type": "stream",
     "text": [
      "model for l1_penalty:  379.26901907322497\n",
      "number of non-zero coefficients: 6\n",
      "RSS:  1222506859427163.0\n",
      "      \n",
      "model for l1_penalty:  366.01420220465064\n",
      "number of non-zero coefficients: 6\n",
      "RSS:  1222506859427163.0\n",
      "      \n",
      "model for l1_penalty:  352.7593853360764\n",
      "number of non-zero coefficients: 6\n",
      "RSS:  1222506859427163.0\n",
      "      \n",
      "model for l1_penalty:  339.50456846750205\n",
      "number of non-zero coefficients: 6\n",
      "RSS:  1222506859427163.0\n",
      "      \n",
      "model for l1_penalty:  326.2497515989278\n",
      "number of non-zero coefficients: 6\n",
      "RSS:  1222506859427163.0\n",
      "      \n",
      "model for l1_penalty:  312.99493473035346\n",
      "number of non-zero coefficients: 6\n",
      "RSS:  1222506859427163.0\n",
      "      \n",
      "model for l1_penalty:  299.7401178617792\n",
      "number of non-zero coefficients: 6\n",
      "RSS:  1222506859427163.0\n",
      "      \n",
      "model for l1_penalty:  286.4853009932049\n",
      "number of non-zero coefficients: 6\n",
      "RSS:  1222506859427163.0\n",
      "      \n",
      "model for l1_penalty:  273.2304841246306\n",
      "number of non-zero coefficients: 6\n",
      "RSS:  1222506859427163.0\n",
      "      \n",
      "model for l1_penalty:  259.9756672560563\n",
      "number of non-zero coefficients: 6\n",
      "RSS:  1222506859427163.0\n",
      "      \n",
      "model for l1_penalty:  246.720850387482\n",
      "number of non-zero coefficients: 6\n",
      "RSS:  1222506859427163.0\n",
      "      \n",
      "model for l1_penalty:  233.4660335189077\n",
      "number of non-zero coefficients: 6\n",
      "RSS:  1222506859427163.0\n",
      "      \n",
      "model for l1_penalty:  220.2112166503334\n",
      "number of non-zero coefficients: 6\n",
      "RSS:  1222506859427163.0\n",
      "      \n",
      "model for l1_penalty:  206.9563997817591\n",
      "number of non-zero coefficients: 6\n",
      "RSS:  1222506859427163.0\n",
      "      \n",
      "model for l1_penalty:  193.7015829131848\n",
      "number of non-zero coefficients: 7\n",
      "RSS:  444475708047902.5\n",
      "      \n",
      "model for l1_penalty:  180.4467660446105\n",
      "number of non-zero coefficients: 7\n",
      "RSS:  442751308216660.9\n",
      "      \n",
      "model for l1_penalty:  167.19194917603622\n",
      "number of non-zero coefficients: 7\n",
      "RSS:  441201860565516.06\n",
      "      \n",
      "model for l1_penalty:  153.93713230746192\n",
      "number of non-zero coefficients: 7\n",
      "RSS:  439824336123779.9\n",
      "      \n",
      "model for l1_penalty:  140.68231543888763\n",
      "number of non-zero coefficients: 8\n",
      "RSS:  439824336123779.9\n",
      "      \n",
      "model for l1_penalty:  127.42749857031335\n",
      "number of non-zero coefficients: 10\n",
      "RSS:  439824336123779.9\n",
      "      \n"
     ]
    }
   ],
   "source": [
    "RSS = []\n",
    "l1_penalty_narrow_range = []\n",
    "\n",
    "for l1_penalty in np.linspace(upper_bound, lower_bound, num=20):\n",
    "    l1_penalty_narrow_range.append(l1_penalty)\n",
    "    model_train = skllm.Lasso(alpha = l1_penalty, normalize=True)\n",
    "    model_train.fit(wk3_train_set[features_of_interest], wk3_train_set['price'])\n",
    "    weights = model_train.coef_\n",
    "    #print('model for l1_penalty: ', l1_penalty)\n",
    "    #print(weights)\n",
    "    num_nonzeros = np.count_nonzero(model_train.coef_) + np.count_nonzero(model_train.intercept_)\n",
    "    if num_nonzeros == 7: \n",
    "        predictions = model_train.predict(wk3_valid_set[features_of_interest])\n",
    "        residuals = wk3_valid_set['price'] - predictions\n",
    "        rss = (residuals**2).sum()\n",
    "        RSS.append(rss)\n",
    "        #print('           ')\n",
    "    print('model for l1_penalty: ', l1_penalty)\n",
    "    print('number of non-zero coefficients:', num_nonzeros)\n",
    "    print('RSS: ', rss)\n",
    "    print('      ')"
   ]
  },
  {
   "cell_type": "markdown",
   "metadata": {},
   "source": [
    "fit the model once again using the l1_penalty for which the RSS is minimized and where num of non-zero coefficients = max_nonzeroes"
   ]
  },
  {
   "cell_type": "code",
   "execution_count": 37,
   "metadata": {},
   "outputs": [
    {
     "name": "stdout",
     "output_type": "stream",
     "text": [
      "bathrooms\n",
      "sqft_living\n",
      "waterfront\n",
      "view\n",
      "grade\n",
      "yr_built\n"
     ]
    }
   ],
   "source": [
    "model_train = skllm.Lasso(alpha = 193.7015829131848, normalize=True)\n",
    "model_train.fit(wk3_train_set[features_of_interest], wk3_train_set['price'])\n",
    "\n",
    "for i in range(len(model_train.coef_)):\n",
    "    if(model_train.coef_[i] != 0):\n",
    "        print(features_of_interest[i])"
   ]
  },
  {
   "cell_type": "code",
   "execution_count": null,
   "metadata": {},
   "outputs": [],
   "source": []
  }
 ],
 "metadata": {
  "kernelspec": {
   "display_name": "Python 3",
   "language": "python",
   "name": "python3"
  },
  "language_info": {
   "codemirror_mode": {
    "name": "ipython",
    "version": 3
   },
   "file_extension": ".py",
   "mimetype": "text/x-python",
   "name": "python",
   "nbconvert_exporter": "python",
   "pygments_lexer": "ipython3",
   "version": "3.8.3"
  }
 },
 "nbformat": 4,
 "nbformat_minor": 4
}
